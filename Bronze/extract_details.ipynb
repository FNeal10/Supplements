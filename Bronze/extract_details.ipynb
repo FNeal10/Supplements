{
 "cells": [
  {
   "cell_type": "code",
   "execution_count": 122,
   "metadata": {},
   "outputs": [],
   "source": [
    "import pandas as pd\n",
    "from time import sleep\n",
    "import json"
   ]
  },
  {
   "cell_type": "code",
   "execution_count": 9,
   "metadata": {},
   "outputs": [],
   "source": [
    "from selenium import webdriver\n",
    "from selenium.webdriver.common.by import By\n",
    "from selenium.webdriver.support.ui import WebDriverWait\n",
    "from selenium.webdriver.support import expected_conditions as EC\n",
    "from selenium.webdriver.chrome.service import Service\n",
    "from webdriver_manager.chrome import ChromeDriverManager"
   ]
  },
  {
   "cell_type": "code",
   "execution_count": 240,
   "metadata": {},
   "outputs": [
    {
     "data": {
      "text/html": [
       "<div>\n",
       "<style scoped>\n",
       "    .dataframe tbody tr th:only-of-type {\n",
       "        vertical-align: middle;\n",
       "    }\n",
       "\n",
       "    .dataframe tbody tr th {\n",
       "        vertical-align: top;\n",
       "    }\n",
       "\n",
       "    .dataframe thead th {\n",
       "        text-align: right;\n",
       "    }\n",
       "</style>\n",
       "<table border=\"1\" class=\"dataframe\">\n",
       "  <thead>\n",
       "    <tr style=\"text-align: right;\">\n",
       "      <th></th>\n",
       "      <th>Name</th>\n",
       "      <th>Url</th>\n",
       "    </tr>\n",
       "  </thead>\n",
       "  <tbody>\n",
       "    <tr>\n",
       "      <th>0</th>\n",
       "      <td>Abscess Root</td>\n",
       "      <td>https://www.webmd.com/vitamins/ai/ingredientmo...</td>\n",
       "    </tr>\n",
       "    <tr>\n",
       "      <th>1</th>\n",
       "      <td>Abuta</td>\n",
       "      <td>https://www.webmd.com/vitamins/ai/ingredientmo...</td>\n",
       "    </tr>\n",
       "    <tr>\n",
       "      <th>2</th>\n",
       "      <td>Acacia Rigidula</td>\n",
       "      <td>https://www.webmd.com/vitamins/ai/ingredientmo...</td>\n",
       "    </tr>\n",
       "    <tr>\n",
       "      <th>3</th>\n",
       "      <td>Acai</td>\n",
       "      <td>https://www.webmd.com/vitamins/ai/ingredientmo...</td>\n",
       "    </tr>\n",
       "    <tr>\n",
       "      <th>4</th>\n",
       "      <td>Acerola</td>\n",
       "      <td>https://www.webmd.com/vitamins/ai/ingredientmo...</td>\n",
       "    </tr>\n",
       "  </tbody>\n",
       "</table>\n",
       "</div>"
      ],
      "text/plain": [
       "              Name                                                Url\n",
       "0     Abscess Root  https://www.webmd.com/vitamins/ai/ingredientmo...\n",
       "1            Abuta  https://www.webmd.com/vitamins/ai/ingredientmo...\n",
       "2  Acacia Rigidula  https://www.webmd.com/vitamins/ai/ingredientmo...\n",
       "3             Acai  https://www.webmd.com/vitamins/ai/ingredientmo...\n",
       "4          Acerola  https://www.webmd.com/vitamins/ai/ingredientmo..."
      ]
     },
     "execution_count": 240,
     "metadata": {},
     "output_type": "execute_result"
    }
   ],
   "source": [
    "supplements = pd.read_csv(\"Supplements.csv\")\n",
    "supplements.head(5)"
   ]
  },
  {
   "cell_type": "code",
   "execution_count": 241,
   "metadata": {},
   "outputs": [
    {
     "data": {
      "text/html": [
       "<div>\n",
       "<style scoped>\n",
       "    .dataframe tbody tr th:only-of-type {\n",
       "        vertical-align: middle;\n",
       "    }\n",
       "\n",
       "    .dataframe tbody tr th {\n",
       "        vertical-align: top;\n",
       "    }\n",
       "\n",
       "    .dataframe thead th {\n",
       "        text-align: right;\n",
       "    }\n",
       "</style>\n",
       "<table border=\"1\" class=\"dataframe\">\n",
       "  <thead>\n",
       "    <tr style=\"text-align: right;\">\n",
       "      <th></th>\n",
       "      <th>Name</th>\n",
       "      <th>Url</th>\n",
       "    </tr>\n",
       "  </thead>\n",
       "  <tbody>\n",
       "    <tr>\n",
       "      <th>261</th>\n",
       "      <td>Cannabis</td>\n",
       "      <td>https://www.webmd.com/vitamins/ai/ingredientmo...</td>\n",
       "    </tr>\n",
       "  </tbody>\n",
       "</table>\n",
       "</div>"
      ],
      "text/plain": [
       "         Name                                                Url\n",
       "261  Cannabis  https://www.webmd.com/vitamins/ai/ingredientmo..."
      ]
     },
     "execution_count": 241,
     "metadata": {},
     "output_type": "execute_result"
    }
   ],
   "source": [
    "supplements = supplements[supplements[\"Name\"].str.startswith('Cannabis')]\n",
    "supplements\n"
   ]
  },
  {
   "cell_type": "code",
   "execution_count": null,
   "metadata": {},
   "outputs": [],
   "source": []
  },
  {
   "cell_type": "code",
   "execution_count": 242,
   "metadata": {},
   "outputs": [],
   "source": [
    "def get_uses(elementPath):\n",
    "    uses = {}\n",
    "\n",
    "    try:\n",
    "        element = wait_time.until(EC.presence_of_element_located((By.XPATH, elementPath)))\n",
    "        div_elements = element.find_elements(By.CLASS_NAME, \"vitamins-monograph-content uses-content\")\n",
    "        \n",
    "\n",
    "        h3_tags = element.find_elements(By.TAG_NAME, \"h3\")\n",
    "        \n",
    "        ul_counter = 1\n",
    "        for h3 in h3_tags:\n",
    "            uses_per_tag = []\n",
    "\n",
    "            ul_path = f\"/html/body/div[1]/div/main/div/div[2]/div/div/div[2]/div[1]/div[{ul_counter}]/ul\"\n",
    "            ul_elements = element.find_elements(By.XPATH, ul_path)\n",
    "\n",
    "            if ul_elements:\n",
    "                li_elements = ul_elements[0].find_elements(By.TAG_NAME, \"li\")\n",
    "                \n",
    "                for item in li_elements:\n",
    "                    li_text = item.text.strip() \n",
    "                    uses_per_tag.append([li_text])\n",
    "\n",
    "                uses[h3.text] = uses_per_tag\n",
    "            ul_counter += 1\n",
    "\n",
    "    except Exception as e:\n",
    "        uses[\"Error\"] = e\n",
    "    finally:\n",
    "        return uses"
   ]
  },
  {
   "cell_type": "code",
   "execution_count": null,
   "metadata": {},
   "outputs": [],
   "source": [
    "def get_overview_content():\n",
    "    overview = {}\n",
    "    try:\n",
    "        \n",
    "        overview_container = wait_time.until(EC.presence_of_element_located((By.XPATH, \"//*[@id=\\\"overview-container\\\"]\")))\n",
    "        \n",
    "        try:\n",
    "            about_container = overview_container.find_elements(By.XPATH, \"./div[1]/div[1]\")\n",
    "            for about in about_container:\n",
    "                overview[\"About\"] = about.text.replace(\"\\n\\n\",\" \").strip()\n",
    "        except Exception:\n",
    "            overview[\"About\"] = \"No information found\" \n",
    "\n",
    "        # HOW TO USE\n",
    "        try:\n",
    "            howToUse_container = overview_container.find_element(By.XPATH, \"//*[@id=\\\"overview-container\\\"]/div[1]/div[2]\")\n",
    "            howToUse_child = howToUse_container.find_elements(By.XPATH, \".//*\")\n",
    "            for howTo in howToUse_child:\n",
    "                print(howTo.tag_name)\n",
    "                if howTo.tag_name.strip() == \"div\":\n",
    "                    overview[\"How To Use\"] = howTo.text.replace(\"\\n\\n\",\" \").strip()\n",
    "        except Exception:\n",
    "            overview[\"About\"] = \"No details on how to use\" \n",
    "\n",
    "    except Exception:\n",
    "        overview.clear\n",
    "        overview[\"Error\"] = \"\"\n",
    "    finally:\n",
    "        return overview"
   ]
  },
  {
   "cell_type": "code",
   "execution_count": 244,
   "metadata": {},
   "outputs": [],
   "source": [
    "def uses_content():\n",
    "    uses = {}"
   ]
  },
  {
   "cell_type": "code",
   "execution_count": 245,
   "metadata": {},
   "outputs": [
    {
     "name": "stdout",
     "output_type": "stream",
     "text": [
      "{'About': \"Cannabis (Cannabis sativa) is an herbal drug. It contains chemicals called cannabinoids, including delta-9-tetrahydrocannabinol (THC) and cannabidiol (CBD). The cannabinoids in cannabis work by binding to specific sites in the brain and on the nerves. There are over 100 cannabinoids in cannabis, but THC and CBD are the most well-studied. Cannabinoids are found in the highest levels in the leaves and flowers of the plant. Cannabis is commonly used as a recreational drug. People also commonly use cannabis for multiple sclerosis (MS) and nerve pain. It is also used for nausea, vomiting, migraine, and many other conditions, but there is no good scientific evidence to support these uses. There is also no good evidence to support using cannabis for COVID-19. Don't confuse cannabis with hemp. Hemp contains very low levels of THC, less than 0.3% according to legal standards. Both hemp and cannabis also contain cannabinoids such as CBD, cannabidivarin (CBDV), cannabigerol (CBG), and others. Unlike hemp, cannabis is illegal under federal law in the US. It is classified as a Schedule I controlled substance. But some states have legalized or decriminalized recreational use.\", 'Error': 'Message: no such element: Unable to locate element: {\"method\":\"xpath\",\"selector\":\"//*[@id=\"overview-container\"]/div[1]/div[2]\"}\\n  (Session info: chrome=133.0.6943.100); For documentation on this error, please visit: https://www.selenium.dev/documentation/webdriver/troubleshooting/errors#no-such-element-exception\\nStacktrace:\\n\\tGetHandleVerifier [0x00630B43+25139]\\n\\t(No symbol) [0x005C13F4]\\n\\t(No symbol) [0x004A04E3]\\n\\t(No symbol) [0x004E83D7]\\n\\t(No symbol) [0x004E872B]\\n\\t(No symbol) [0x004DDA81]\\n\\t(No symbol) [0x0050D014]\\n\\t(No symbol) [0x004DD9A4]\\n\\t(No symbol) [0x0050D244]\\n\\t(No symbol) [0x0052E778]\\n\\t(No symbol) [0x0050CDC6]\\n\\t(No symbol) [0x004DBDE9]\\n\\t(No symbol) [0x004DD124]\\n\\tGetHandleVerifier [0x00934373+3185251]\\n\\tGetHandleVerifier [0x0095291A+3309578]\\n\\tGetHandleVerifier [0x0094CF42+3286578]\\n\\tGetHandleVerifier [0x006C7AE0+643536]\\n\\t(No symbol) [0x005CA20D]\\n\\t(No symbol) [0x005C70B8]\\n\\t(No symbol) [0x005C7257]\\n\\t(No symbol) [0x005B9E00]\\n\\t(No symbol) [0x769FFCC9]\\n\\tRtlGetAppContainerNamedObjectPath [0x773682AE+286]\\n\\tRtlGetAppContainerNamedObjectPath [0x7736827E+238]\\n'}\n"
     ]
    }
   ],
   "source": [
    "supplement_info = {}\n",
    "\n",
    "driver = webdriver.Chrome(service=Service(ChromeDriverManager().install()))\n",
    "wait_time = WebDriverWait(driver,10)\n",
    "\n",
    "for _, info in supplements.head(1).iterrows():\n",
    "\n",
    "    supplementName = info.Name\n",
    "    supplementURL = info.Url\n",
    "    \n",
    "    driver.get(supplementURL)       \n",
    "\n",
    "    overview = get_overview_content()\n",
    "    print(overview)\n",
    "    #overview_content = parent_monograph.find_elements(By.CLASS_NAME, \"vitamins-monograph-content overview-content\")\n",
    "    #text = overview_content.text.strip()\n",
    "    \n",
    "    \n",
    "    #overview = get_overview_content()\n",
    "    #overview = get_element_text(supplementName, \"Overview\", \"/html/body/div[1]/div/main/div/div[2]/div/div/div[1]/div[1]/div\")\n",
    "    #uses = get_uses(\"/html/body/div[1]/div/main/div/div[2]/div/div/div[2]/div[1]\")\n",
    "    #sideEffects = get_element_text(supplementName, \"Side Effects\", \"/html/body/div[1]/div/main/div/div[2]/div/div/div[3]/div[1]\")\n",
    "    #precautions = get_element_text(supplementName, \"Precautions\", \"/html/body/div[1]/div/main/div/div[2]/div/div/div[4]/div[1]/div\")\n",
    "    #interactons = [] /html/body/div[1]/div/main/div/div[2]/div/div/div[4]/div[2]/div\n",
    "    #dosing = get_element_text(supplementName, \"Dosing\", \"/html/body/div[1]/div/main/div/div[2]/div/div/div[6]/div[1]/div\")\n",
    "\n",
    "    # supplement_info[supplementName] = {\n",
    "    #     \"Overview\": overview,\n",
    "    #     \"Uses\": [],\n",
    "    #     \"SideEffects\": [],\n",
    "    #     \"Precautions\": [],\n",
    "    #     \"Interactions\": [],\n",
    "    #     \"Dosing\": [] \n",
    "    # }\n",
    "    sleep(5)\n",
    "driver.quit()"
   ]
  },
  {
   "cell_type": "code",
   "execution_count": null,
   "metadata": {},
   "outputs": [],
   "source": []
  },
  {
   "cell_type": "code",
   "execution_count": null,
   "metadata": {},
   "outputs": [],
   "source": []
  },
  {
   "cell_type": "code",
   "execution_count": null,
   "metadata": {},
   "outputs": [],
   "source": []
  },
  {
   "cell_type": "code",
   "execution_count": null,
   "metadata": {},
   "outputs": [],
   "source": []
  },
  {
   "cell_type": "code",
   "execution_count": 136,
   "metadata": {},
   "outputs": [
    {
     "name": "stdout",
     "output_type": "stream",
     "text": [
      "{\n",
      "    \"Abscess Root\": {\n",
      "        \"Overview\": \"Abscess root (Polemonium reptans) is an herb. The root is ground and used as a medicinal tea, but it's not clear if it has any benefits.\\n\\nAbscess root is used for fever, cough, swelling, and other conditions. But there is no good scientific evidence to support any uses.\\n\\nAbscess root is also called \\\"false Jacob's ladder,\\\" because it has some of the same effects as another plant called Jacob's ladder. These two plants are used in similar ways, but are not the same.\",\n",
      "        \"Uses\": [],\n",
      "        \"SideEffects\": [],\n",
      "        \"Precautions\": [],\n",
      "        \"Interactions\": [],\n",
      "        \"Dosing\": []\n",
      "    }\n",
      "}\n"
     ]
    }
   ],
   "source": [
    "print(json.dumps(supplement_info, indent=4))"
   ]
  },
  {
   "cell_type": "markdown",
   "metadata": {},
   "source": [
    "TEST HERE"
   ]
  },
  {
   "cell_type": "code",
   "execution_count": null,
   "metadata": {},
   "outputs": [],
   "source": [
    "driver = webdriver.Chrome(service=Service(ChromeDriverManager().install()))\n",
    "driver.get(\"https://www.webmd.com/vitamins/ai/ingredientmono-266/abscess-root\")\n",
    "wait_time = WebDriverWait(driver,5)\n",
    "#div = \"/html/body/div[1]/div/main/div/div[2]/div/div/div[2]/div[1]\"\n",
    "/html/body/div[1]/div/main/div/div[2]/div/div/div[2]/div[1]/div[3]\n",
    "div = \"/html/body/div[1]/div/main/div/div[2]/div/div/div[2]/p\"\n",
    "elem = wait_time.until(EC.presence_of_element_located((By.XPATH, div)))\n",
    "elem = wait_time.until(EC.)\n",
    "print(elem.text)\n",
    "driver.quit()"
   ]
  }
 ],
 "metadata": {
  "kernelspec": {
   "display_name": "Python 3",
   "language": "python",
   "name": "python3"
  },
  "language_info": {
   "codemirror_mode": {
    "name": "ipython",
    "version": 3
   },
   "file_extension": ".py",
   "mimetype": "text/x-python",
   "name": "python",
   "nbconvert_exporter": "python",
   "pygments_lexer": "ipython3",
   "version": "3.12.5"
  }
 },
 "nbformat": 4,
 "nbformat_minor": 2
}
