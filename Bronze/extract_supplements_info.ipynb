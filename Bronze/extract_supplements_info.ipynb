{
 "cells": [
  {
   "cell_type": "code",
   "execution_count": 122,
   "metadata": {},
   "outputs": [],
   "source": [
    "import pandas as pd\n",
    "from time import sleep\n",
    "import json"
   ]
  },
  {
   "cell_type": "code",
   "execution_count": 9,
   "metadata": {},
   "outputs": [],
   "source": [
    "from selenium import webdriver\n",
    "from selenium.webdriver.common.by import By\n",
    "from selenium.webdriver.support.ui import WebDriverWait\n",
    "from selenium.webdriver.support import expected_conditions as EC\n",
    "from selenium.webdriver.chrome.service import Service\n",
    "from webdriver_manager.chrome import ChromeDriverManager"
   ]
  },
  {
   "cell_type": "code",
   "execution_count": 162,
   "metadata": {},
   "outputs": [
    {
     "data": {
      "text/html": [
       "<div>\n",
       "<style scoped>\n",
       "    .dataframe tbody tr th:only-of-type {\n",
       "        vertical-align: middle;\n",
       "    }\n",
       "\n",
       "    .dataframe tbody tr th {\n",
       "        vertical-align: top;\n",
       "    }\n",
       "\n",
       "    .dataframe thead th {\n",
       "        text-align: right;\n",
       "    }\n",
       "</style>\n",
       "<table border=\"1\" class=\"dataframe\">\n",
       "  <thead>\n",
       "    <tr style=\"text-align: right;\">\n",
       "      <th></th>\n",
       "      <th>Name</th>\n",
       "      <th>Url</th>\n",
       "    </tr>\n",
       "  </thead>\n",
       "  <tbody>\n",
       "    <tr>\n",
       "      <th>0</th>\n",
       "      <td>Abscess Root</td>\n",
       "      <td>https://www.webmd.com/vitamins/ai/ingredientmo...</td>\n",
       "    </tr>\n",
       "    <tr>\n",
       "      <th>1</th>\n",
       "      <td>Abuta</td>\n",
       "      <td>https://www.webmd.com/vitamins/ai/ingredientmo...</td>\n",
       "    </tr>\n",
       "    <tr>\n",
       "      <th>2</th>\n",
       "      <td>Acacia Rigidula</td>\n",
       "      <td>https://www.webmd.com/vitamins/ai/ingredientmo...</td>\n",
       "    </tr>\n",
       "    <tr>\n",
       "      <th>3</th>\n",
       "      <td>Acai</td>\n",
       "      <td>https://www.webmd.com/vitamins/ai/ingredientmo...</td>\n",
       "    </tr>\n",
       "    <tr>\n",
       "      <th>4</th>\n",
       "      <td>Acerola</td>\n",
       "      <td>https://www.webmd.com/vitamins/ai/ingredientmo...</td>\n",
       "    </tr>\n",
       "  </tbody>\n",
       "</table>\n",
       "</div>"
      ],
      "text/plain": [
       "              Name                                                Url\n",
       "0     Abscess Root  https://www.webmd.com/vitamins/ai/ingredientmo...\n",
       "1            Abuta  https://www.webmd.com/vitamins/ai/ingredientmo...\n",
       "2  Acacia Rigidula  https://www.webmd.com/vitamins/ai/ingredientmo...\n",
       "3             Acai  https://www.webmd.com/vitamins/ai/ingredientmo...\n",
       "4          Acerola  https://www.webmd.com/vitamins/ai/ingredientmo..."
      ]
     },
     "execution_count": 162,
     "metadata": {},
     "output_type": "execute_result"
    }
   ],
   "source": [
    "supplements = pd.read_csv(\"Supplements.csv\")\n",
    "supplements.head(5)"
   ]
  },
  {
   "cell_type": "code",
   "execution_count": 164,
   "metadata": {},
   "outputs": [
    {
     "data": {
      "text/html": [
       "<div>\n",
       "<style scoped>\n",
       "    .dataframe tbody tr th:only-of-type {\n",
       "        vertical-align: middle;\n",
       "    }\n",
       "\n",
       "    .dataframe tbody tr th {\n",
       "        vertical-align: top;\n",
       "    }\n",
       "\n",
       "    .dataframe thead th {\n",
       "        text-align: right;\n",
       "    }\n",
       "</style>\n",
       "<table border=\"1\" class=\"dataframe\">\n",
       "  <thead>\n",
       "    <tr style=\"text-align: right;\">\n",
       "      <th></th>\n",
       "      <th>Name</th>\n",
       "      <th>Url</th>\n",
       "    </tr>\n",
       "  </thead>\n",
       "  <tbody>\n",
       "    <tr>\n",
       "      <th>42</th>\n",
       "      <td>American Dogwood</td>\n",
       "      <td>https://www.webmd.com/vitamins/ai/ingredientmo...</td>\n",
       "    </tr>\n",
       "  </tbody>\n",
       "</table>\n",
       "</div>"
      ],
      "text/plain": [
       "                Name                                                Url\n",
       "42  American Dogwood  https://www.webmd.com/vitamins/ai/ingredientmo..."
      ]
     },
     "execution_count": 164,
     "metadata": {},
     "output_type": "execute_result"
    }
   ],
   "source": [
    "supplements = supplements[supplements[\"Name\"].str.startswith('American Dogwood')]\n",
    "supplements\n"
   ]
  },
  {
   "cell_type": "code",
   "execution_count": null,
   "metadata": {},
   "outputs": [],
   "source": []
  },
  {
   "cell_type": "code",
   "execution_count": 92,
   "metadata": {},
   "outputs": [],
   "source": [
    "def get_element_text(supplementName, elementSection, elementPath):\n",
    "\n",
    "    try:\n",
    "        element = wait_time.until(EC.presence_of_element_located((By.XPATH, elementPath)))\n",
    "        text = element.text.strip()\n",
    "    except Exception as e:\n",
    "        text = f\"No {elementSection} information for {supplementName}\"\n",
    "    finally:\n",
    "        return text"
   ]
  },
  {
   "cell_type": "code",
   "execution_count": null,
   "metadata": {},
   "outputs": [],
   "source": [
    "def get_uses(elementPath):\n",
    "    uses = {}\n",
    "\n",
    "    try:\n",
    "        element = wait_time.until(EC.presence_of_element_located((By.XPATH, elementPath)))\n",
    "        div_elements = element.find_elements(By.CLASS_NAME, \"vitamins-monograph-content uses-content\")\n",
    "        \n",
    "\n",
    "        h3_tags = element.find_elements(By.TAG_NAME, \"h3\")\n",
    "        \n",
    "        ul_counter = 1\n",
    "        for h3 in h3_tags:\n",
    "            uses_per_tag = []\n",
    "\n",
    "            ul_path = f\"/html/body/div[1]/div/main/div/div[2]/div/div/div[2]/div[1]/div[{ul_counter}]/ul\"\n",
    "            ul_elements = element.find_elements(By.XPATH, ul_path)\n",
    "\n",
    "            if ul_elements:\n",
    "                li_elements = ul_elements[0].find_elements(By.TAG_NAME, \"li\")\n",
    "                \n",
    "                for item in li_elements:\n",
    "                    li_text = item.text.strip() \n",
    "                    uses_per_tag.append([li_text])\n",
    "\n",
    "                uses[h3.text] = uses_per_tag\n",
    "            ul_counter += 1\n",
    "\n",
    "    except Exception as e:\n",
    "        uses[\"Error\"] = e\n",
    "    finally:\n",
    "        return uses"
   ]
  },
  {
   "cell_type": "code",
   "execution_count": 171,
   "metadata": {},
   "outputs": [],
   "source": [
    "def get_overview_content():\n",
    "    overview = {}\n",
    "    try:\n",
    "        overview_text = \"About\"\n",
    "\n",
    "        overview_container = wait_time.until(EC.presence_of_element_located((By.ID, \"overview-container\")))\n",
    "        overview_content = overview_container.find_elements(By.XPATH, \"./div[not(contains(@class, 'fifth-para-ad'))]\")\n",
    "        for content in overview_content:\n",
    "            if content.tag_name == \"h3\":\n",
    "                overview_text = content.text\n",
    "            \n",
    "            if overview_text not in overview:\n",
    "                overview[overview_text] = []\n",
    "                \n",
    "            overview[overview_text].append(content.text.replace(\"\\n\\n\",\" \").strip())\n",
    "    except Exception as e:\n",
    "        overview[\"Error\"] = f\"{e}\"\n",
    "    finally:\n",
    "        return overview"
   ]
  },
  {
   "cell_type": "code",
   "execution_count": 172,
   "metadata": {},
   "outputs": [
    {
     "name": "stdout",
     "output_type": "stream",
     "text": [
      "{'About': ['American dogwood is a tree. Historically, people made medicine from the bark. American dogwood bark is still used today as medicine, but not very often. People use American dogwood for headaches, wounds, fever, ongoing diarrhea, and other conditions, but there is no good scientific evidence to support these uses. Be careful not to confuse American dogwood with Jamaican dogwood. How does it work ?\\nAmerican dogwood might have some effects against malaria. American dogwood might have some effects against malaria.']}\n"
     ]
    }
   ],
   "source": [
    "supplement_info = {}\n",
    "\n",
    "driver = webdriver.Chrome(service=Service(ChromeDriverManager().install()))\n",
    "wait_time = WebDriverWait(driver,10)\n",
    "\n",
    "for _, info in supplements.head(1).iterrows():\n",
    "\n",
    "    supplementName = info.Name\n",
    "    supplementURL = info.Url\n",
    "    \n",
    "    driver.get(supplementURL)       \n",
    "\n",
    "    overview = get_overview_content()\n",
    "    print(overview)\n",
    "    #overview_content = parent_monograph.find_elements(By.CLASS_NAME, \"vitamins-monograph-content overview-content\")\n",
    "    #text = overview_content.text.strip()\n",
    "    \n",
    "    \n",
    "    #overview = get_overview_content()\n",
    "    #overview = get_element_text(supplementName, \"Overview\", \"/html/body/div[1]/div/main/div/div[2]/div/div/div[1]/div[1]/div\")\n",
    "    #uses = get_uses(\"/html/body/div[1]/div/main/div/div[2]/div/div/div[2]/div[1]\")\n",
    "    #sideEffects = get_element_text(supplementName, \"Side Effects\", \"/html/body/div[1]/div/main/div/div[2]/div/div/div[3]/div[1]\")\n",
    "    #precautions = get_element_text(supplementName, \"Precautions\", \"/html/body/div[1]/div/main/div/div[2]/div/div/div[4]/div[1]/div\")\n",
    "    #interactons = [] /html/body/div[1]/div/main/div/div[2]/div/div/div[4]/div[2]/div\n",
    "    #dosing = get_element_text(supplementName, \"Dosing\", \"/html/body/div[1]/div/main/div/div[2]/div/div/div[6]/div[1]/div\")\n",
    "\n",
    "    # supplement_info[supplementName] = {\n",
    "    #     \"Overview\": overview,\n",
    "    #     \"Uses\": [],\n",
    "    #     \"SideEffects\": [],\n",
    "    #     \"Precautions\": [],\n",
    "    #     \"Interactions\": [],\n",
    "    #     \"Dosing\": [] \n",
    "    # }\n",
    "    sleep(5)\n",
    "driver.quit()"
   ]
  },
  {
   "cell_type": "code",
   "execution_count": null,
   "metadata": {},
   "outputs": [],
   "source": []
  },
  {
   "cell_type": "code",
   "execution_count": null,
   "metadata": {},
   "outputs": [],
   "source": []
  },
  {
   "cell_type": "code",
   "execution_count": null,
   "metadata": {},
   "outputs": [],
   "source": []
  },
  {
   "cell_type": "code",
   "execution_count": null,
   "metadata": {},
   "outputs": [],
   "source": []
  },
  {
   "cell_type": "code",
   "execution_count": 136,
   "metadata": {},
   "outputs": [
    {
     "name": "stdout",
     "output_type": "stream",
     "text": [
      "{\n",
      "    \"Abscess Root\": {\n",
      "        \"Overview\": \"Abscess root (Polemonium reptans) is an herb. The root is ground and used as a medicinal tea, but it's not clear if it has any benefits.\\n\\nAbscess root is used for fever, cough, swelling, and other conditions. But there is no good scientific evidence to support any uses.\\n\\nAbscess root is also called \\\"false Jacob's ladder,\\\" because it has some of the same effects as another plant called Jacob's ladder. These two plants are used in similar ways, but are not the same.\",\n",
      "        \"Uses\": [],\n",
      "        \"SideEffects\": [],\n",
      "        \"Precautions\": [],\n",
      "        \"Interactions\": [],\n",
      "        \"Dosing\": []\n",
      "    }\n",
      "}\n"
     ]
    }
   ],
   "source": [
    "print(json.dumps(supplement_info, indent=4))"
   ]
  },
  {
   "cell_type": "markdown",
   "metadata": {},
   "source": [
    "TEST HERE"
   ]
  },
  {
   "cell_type": "code",
   "execution_count": null,
   "metadata": {},
   "outputs": [],
   "source": [
    "driver = webdriver.Chrome(service=Service(ChromeDriverManager().install()))\n",
    "driver.get(\"https://www.webmd.com/vitamins/ai/ingredientmono-266/abscess-root\")\n",
    "wait_time = WebDriverWait(driver,5)\n",
    "#div = \"/html/body/div[1]/div/main/div/div[2]/div/div/div[2]/div[1]\"\n",
    "/html/body/div[1]/div/main/div/div[2]/div/div/div[2]/div[1]/div[3]\n",
    "div = \"/html/body/div[1]/div/main/div/div[2]/div/div/div[2]/p\"\n",
    "elem = wait_time.until(EC.presence_of_element_located((By.XPATH, div)))\n",
    "elem = wait_time.until(EC.)\n",
    "print(elem.text)\n",
    "driver.quit()"
   ]
  }
 ],
 "metadata": {
  "kernelspec": {
   "display_name": "Python 3",
   "language": "python",
   "name": "python3"
  },
  "language_info": {
   "codemirror_mode": {
    "name": "ipython",
    "version": 3
   },
   "file_extension": ".py",
   "mimetype": "text/x-python",
   "name": "python",
   "nbconvert_exporter": "python",
   "pygments_lexer": "ipython3",
   "version": "3.12.5"
  }
 },
 "nbformat": 4,
 "nbformat_minor": 2
}
