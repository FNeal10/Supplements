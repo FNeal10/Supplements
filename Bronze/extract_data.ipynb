{
 "cells": [
  {
   "cell_type": "code",
   "execution_count": null,
   "metadata": {},
   "outputs": [],
   "source": [
    "import pandas as pd\n",
    "from time import sleep"
   ]
  },
  {
   "cell_type": "code",
   "execution_count": null,
   "metadata": {},
   "outputs": [],
   "source": [
    "from selenium import webdriver\n",
    "from selenium.webdriver.common.by import By\n",
    "from selenium.webdriver.support.ui import WebDriverWait\n",
    "from selenium.webdriver.support import expected_conditions as EC\n",
    "from selenium.webdriver.chrome.service import Service\n",
    "from webdriver_manager.chrome import ChromeDriverManager"
   ]
  },
  {
   "cell_type": "code",
   "execution_count": 22,
   "metadata": {},
   "outputs": [],
   "source": [
    "url = \"https://www.webmd.com/vitamins/alpha/\"\n",
    "letters = ['a','b','c','d','e','f','g','h','i','j','k','l','m','n',\n",
    "           'o','p','q','r','s','t','u','v','w','x','y','z']"
   ]
  },
  {
   "cell_type": "markdown",
   "metadata": {},
   "source": [
    "# EXTRACT SUPPLEMENTS AND URL"
   ]
  },
  {
   "cell_type": "code",
   "execution_count": null,
   "metadata": {},
   "outputs": [],
   "source": [
    "supplements_list = []\n",
    "\n",
    "# Initialize WebDriver\n",
    "driver = webdriver.Chrome(service=Service(ChromeDriverManager().install()))\n",
    "\n",
    "for letter in letters:\n",
    "    \n",
    "    driver.get(url + letter)  # Replace with your actual URL\n",
    "\n",
    "    # Create explicit wait\n",
    "    wait_time = WebDriverWait(driver, 10)\n",
    "\n",
    "    # Wait until the \"Load More\" button is visible and clickable, then click it\n",
    "    try:\n",
    "        btn_loadMore = wait_time.until(EC.element_to_be_clickable((By.XPATH, \"/html/body/div[1]/div/main/div/div[2]/div/div/div/div/div/div[3]/span\")))\n",
    "        btn_loadMore.click()\n",
    "    except Exception as e:\n",
    "        print(\"Load More button not found or not clickable:\", e)\n",
    "\n",
    "    # Wait for the <ul> to be present\n",
    "    try:\n",
    "        ul_element = wait_time.until(EC.presence_of_element_located((By.XPATH, \"/html/body/div[1]/div/main/div/div[2]/div/div/div/div/div/div[2]/aside/ul\")))\n",
    "        \n",
    "        # Get all <li> elements inside the <ul>\n",
    "        list_items = ul_element.find_elements(By.TAG_NAME, \"li\")\n",
    "\n",
    "        # Loop through each <li> element\n",
    "        for index, item in enumerate(list_items, start=1):\n",
    "            try:\n",
    "                # Find the <a> tag inside the current <li> element\n",
    "                a_tag = item.find_element(By.TAG_NAME, \"a\")\n",
    "                \n",
    "                # Extract the href attribute and text inside the <a> tag\n",
    "                href = a_tag.get_attribute(\"href\")\n",
    "                text = a_tag.text\n",
    "                \n",
    "                # Print the extracted information\n",
    "                supplements_list.append([text, href])\n",
    "                sleep(5)\n",
    "                #print(f\"Item {index}: {text} - {href}\")\n",
    "            except Exception as e:\n",
    "                print(f\"No <a> tag found in Item {index}: {e}\")\n",
    "    except Exception as e:\n",
    "        print(\"Error finding <ul> or <li> elements:\", e)\n",
    "\n",
    "# Quit WebDriver\n",
    "driver.quit()"
   ]
  },
  {
   "cell_type": "code",
   "execution_count": 28,
   "metadata": {},
   "outputs": [],
   "source": [
    "supplements = pd.DataFrame(supplements_list, columns=[\"Name\", \"Url\"])"
   ]
  },
  {
   "cell_type": "markdown",
   "metadata": {},
   "source": [
    "# EXTRACT INFORMATION PER SUPPLEMENTS"
   ]
  },
  {
   "cell_type": "code",
   "execution_count": null,
   "metadata": {},
   "outputs": [],
   "source": []
  }
 ],
 "metadata": {
  "kernelspec": {
   "display_name": "Python 3",
   "language": "python",
   "name": "python3"
  },
  "language_info": {
   "codemirror_mode": {
    "name": "ipython",
    "version": 3
   },
   "file_extension": ".py",
   "mimetype": "text/x-python",
   "name": "python",
   "nbconvert_exporter": "python",
   "pygments_lexer": "ipython3",
   "version": "3.11.4"
  }
 },
 "nbformat": 4,
 "nbformat_minor": 2
}
