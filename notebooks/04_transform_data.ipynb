{
 "cells": [
  {
   "cell_type": "code",
   "execution_count": 152,
   "id": "03a5a9f0",
   "metadata": {},
   "outputs": [],
   "source": [
    "import pandas as pd\n",
    "import csv\n",
    "import sys\n",
    "import os\n",
    "\n",
    "sys.path.append(os.path.abspath(\"..\"))\n",
    "from utils.text_cleaning import basic_text_cleaning as tc"
   ]
  },
  {
   "cell_type": "code",
   "execution_count": 107,
   "id": "56865172",
   "metadata": {},
   "outputs": [
    {
     "data": {
      "text/plain": [
       "<module 'utils.text_cleaning' from 'c:\\\\Files\\\\Supplements\\\\utils\\\\text_cleaning.py'>"
      ]
     },
     "execution_count": 107,
     "metadata": {},
     "output_type": "execute_result"
    }
   ],
   "source": [
    "import importlib\n",
    "import utils.text_cleaning\n",
    "importlib.reload(utils.text_cleaning)"
   ]
  },
  {
   "cell_type": "markdown",
   "id": "34070a3d",
   "metadata": {},
   "source": [
    "## FUNCTIONS"
   ]
  },
  {
   "cell_type": "code",
   "execution_count": 160,
   "id": "94621aac",
   "metadata": {},
   "outputs": [],
   "source": [
    "def flatten_file(file: list):\n",
    "    flatted_file = [item for sublist in file for item in sublist]\n",
    "    return flatted_file"
   ]
  },
  {
   "cell_type": "markdown",
   "id": "ce17f8cd",
   "metadata": {},
   "source": [
    "## SUPPLEMENTS CATALOG"
   ]
  },
  {
   "cell_type": "code",
   "execution_count": 108,
   "id": "686f1c32",
   "metadata": {},
   "outputs": [],
   "source": [
    "df = pd.read_json(\"../data/bronze/supplements_information.json\")\n",
    "df = df.T"
   ]
  },
  {
   "cell_type": "code",
   "execution_count": 109,
   "id": "5b51ef98",
   "metadata": {},
   "outputs": [
    {
     "name": "stdout",
     "output_type": "stream",
     "text": [
      "Index(['Overview', 'Uses', 'SideEffects', 'Precautions', 'Interactions',\n",
      "       'Dosing', 'Reviews'],\n",
      "      dtype='object')\n"
     ]
    }
   ],
   "source": [
    "print(df.columns)"
   ]
  },
  {
   "cell_type": "code",
   "execution_count": 110,
   "id": "4b3d813b",
   "metadata": {},
   "outputs": [
    {
     "name": "stdout",
     "output_type": "stream",
     "text": [
      "<class 'pandas.core.frame.DataFrame'>\n",
      "Index: 1279 entries, Abscess Root to Zizyphus\n",
      "Data columns (total 7 columns):\n",
      " #   Column        Non-Null Count  Dtype \n",
      "---  ------        --------------  ----- \n",
      " 0   Overview      1279 non-null   object\n",
      " 1   Uses          1279 non-null   object\n",
      " 2   SideEffects   1279 non-null   object\n",
      " 3   Precautions   1279 non-null   object\n",
      " 4   Interactions  1279 non-null   object\n",
      " 5   Dosing        1279 non-null   object\n",
      " 6   Reviews       1279 non-null   object\n",
      "dtypes: object(7)\n",
      "memory usage: 112.2+ KB\n"
     ]
    }
   ],
   "source": [
    "df.info()"
   ]
  },
  {
   "cell_type": "code",
   "execution_count": 111,
   "id": "8e8d67e5",
   "metadata": {},
   "outputs": [],
   "source": [
    "dfsupplements = df[[\"Overview\",\"SideEffects\",\"Precautions\",\"Dosing\"]].copy()\n",
    "dfsupplements[\"Supplement\"] = dfsupplements.index\n",
    "dfsupplements = dfsupplements.reset_index(drop=True)[[\"Supplement\",\"Overview\",\"SideEffects\",\"Precautions\",\"Dosing\"]]"
   ]
  },
  {
   "cell_type": "code",
   "execution_count": 112,
   "id": "5b079f75",
   "metadata": {},
   "outputs": [],
   "source": [
    "dfsupplements[\"Overview_Cleaned\"] = dfsupplements[\"Overview\"].apply(tc)\n",
    "dfsupplements[\"SideEffects_Cleaned\"] = dfsupplements[\"SideEffects\"].apply(tc)\n",
    "dfsupplements[\"Precautions_Cleaned\"] = dfsupplements[\"Precautions\"].apply(tc)\n",
    "dfsupplements[\"Dosing_Cleaned\"] = dfsupplements[\"Dosing\"].apply(tc)\n",
    "dfsupplements.drop(columns=[\"Overview\",\"SideEffects\",\"Precautions\",\"Dosing\"], inplace=True)\n"
   ]
  },
  {
   "cell_type": "code",
   "execution_count": 113,
   "id": "934101f2",
   "metadata": {},
   "outputs": [],
   "source": [
    "dfsupplements.rename(columns={\n",
    "    \"Overview_Cleaned\": \"Overview\",\n",
    "    \"SideEffects_Cleaned\": \"SideEffects\",\n",
    "    \"Precautions_Cleaned\": \"Precautions\",\n",
    "    \"Dosing_Cleaned\": \"Dosing\",\n",
    "}, inplace=True)"
   ]
  },
  {
   "cell_type": "code",
   "execution_count": 119,
   "id": "8f6dd82e",
   "metadata": {},
   "outputs": [],
   "source": [
    "save_path = \"../data/silver/\"\n",
    "file_to_save = \"supplements_catalog.csv\"\n",
    "dfsupplements.to_csv(os.path.join(save_path, file_to_save), index=False)"
   ]
  },
  {
   "cell_type": "markdown",
   "id": "583d79a9",
   "metadata": {},
   "source": [
    "## USES CATALOG"
   ]
  },
  {
   "cell_type": "code",
   "execution_count": 155,
   "id": "0dd509d6",
   "metadata": {},
   "outputs": [
    {
     "data": {
      "text/html": [
       "<div>\n",
       "<style scoped>\n",
       "    .dataframe tbody tr th:only-of-type {\n",
       "        vertical-align: middle;\n",
       "    }\n",
       "\n",
       "    .dataframe tbody tr th {\n",
       "        vertical-align: top;\n",
       "    }\n",
       "\n",
       "    .dataframe thead th {\n",
       "        text-align: right;\n",
       "    }\n",
       "</style>\n",
       "<table border=\"1\" class=\"dataframe\">\n",
       "  <thead>\n",
       "    <tr style=\"text-align: right;\">\n",
       "      <th></th>\n",
       "      <th>Supplement</th>\n",
       "      <th>Uses</th>\n",
       "    </tr>\n",
       "  </thead>\n",
       "  <tbody>\n",
       "    <tr>\n",
       "      <th>0</th>\n",
       "      <td>Abscess Root</td>\n",
       "      <td>{}</td>\n",
       "    </tr>\n",
       "    <tr>\n",
       "      <th>1</th>\n",
       "      <td>Abuta</td>\n",
       "      <td>{}</td>\n",
       "    </tr>\n",
       "    <tr>\n",
       "      <th>2</th>\n",
       "      <td>Acacia Rigidula</td>\n",
       "      <td>{}</td>\n",
       "    </tr>\n",
       "    <tr>\n",
       "      <th>3</th>\n",
       "      <td>Acai</td>\n",
       "      <td>{}</td>\n",
       "    </tr>\n",
       "    <tr>\n",
       "      <th>4</th>\n",
       "      <td>Acerola</td>\n",
       "      <td>{'Possibly Effective for': [['Vitamin C defici...</td>\n",
       "    </tr>\n",
       "  </tbody>\n",
       "</table>\n",
       "</div>"
      ],
      "text/plain": [
       "        Supplement                                               Uses\n",
       "0     Abscess Root                                                 {}\n",
       "1            Abuta                                                 {}\n",
       "2  Acacia Rigidula                                                 {}\n",
       "3             Acai                                                 {}\n",
       "4          Acerola  {'Possibly Effective for': [['Vitamin C defici..."
      ]
     },
     "execution_count": 155,
     "metadata": {},
     "output_type": "execute_result"
    }
   ],
   "source": [
    "dfuses = df[[\"Uses\"]].copy()\n",
    "dfuses[\"Supplement\"] = df.index\n",
    "dfuses = dfuses.reset_index(drop=True)[[\"Supplement\",\"Uses\"]]\n",
    "dfuses.head(5)"
   ]
  },
  {
   "cell_type": "code",
   "execution_count": null,
   "id": "92e4699b",
   "metadata": {},
   "outputs": [],
   "source": [
    "uses_list = []\n",
    "for idx, row in dfuses.iterrows():\n",
    "    supp_name = row[\"Supplement\"]\n",
    "    supp_uses = row[\"Uses\"]\n",
    "    \n",
    "    if not supp_uses:\n",
    "        uses_list.append([supp_name, None, None])\n",
    "    else:\n",
    "        for key, value in supp_uses.items():\n",
    "            new_value = flatten_file(value)\n",
    "            uses_list.append([supp_name, key, \" \".join(new_value)])"
   ]
  },
  {
   "cell_type": "code",
   "execution_count": 157,
   "id": "825d7382",
   "metadata": {},
   "outputs": [],
   "source": [
    "with open('../data/silver/uses_catalog.csv', mode='w', newline='', encoding='utf-8') as file:\n",
    "    writer = csv.writer(file)\n",
    "    writer.writerow(['Supplement', 'Effectiveness', 'Description'])\n",
    "    writer.writerows(uses_list)"
   ]
  },
  {
   "cell_type": "markdown",
   "id": "d26a5209",
   "metadata": {},
   "source": [
    "## USES CATEGORY"
   ]
  },
  {
   "cell_type": "markdown",
   "id": "323779a5",
   "metadata": {},
   "source": [
    "## INTERACTIONS"
   ]
  },
  {
   "cell_type": "markdown",
   "id": "4021c724",
   "metadata": {},
   "source": [
    "## INTERACTIONS CATEGORY"
   ]
  },
  {
   "cell_type": "code",
   "execution_count": null,
   "id": "9bcca9e4",
   "metadata": {},
   "outputs": [],
   "source": []
  }
 ],
 "metadata": {
  "kernelspec": {
   "display_name": "env",
   "language": "python",
   "name": "python3"
  },
  "language_info": {
   "codemirror_mode": {
    "name": "ipython",
    "version": 3
   },
   "file_extension": ".py",
   "mimetype": "text/x-python",
   "name": "python",
   "nbconvert_exporter": "python",
   "pygments_lexer": "ipython3",
   "version": "3.11.4"
  }
 },
 "nbformat": 4,
 "nbformat_minor": 5
}
