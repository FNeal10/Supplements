{
 "cells": [
  {
   "cell_type": "code",
   "execution_count": 117,
   "id": "03a5a9f0",
   "metadata": {},
   "outputs": [],
   "source": [
    "import pandas as pd\n",
    "import json\n",
    "import sys\n",
    "import os\n",
    "\n",
    "sys.path.append(os.path.abspath(\"..\"))\n",
    "from utils.text_cleaning import basic_text_cleaning as tc"
   ]
  },
  {
   "cell_type": "code",
   "execution_count": 118,
   "id": "56865172",
   "metadata": {},
   "outputs": [
    {
     "data": {
      "text/plain": [
       "<module 'utils.text_cleaning' from 'c:\\\\Users\\\\faltares\\\\Documents\\\\DEV\\\\Supplements\\\\Supplements\\\\utils\\\\text_cleaning.py'>"
      ]
     },
     "execution_count": 118,
     "metadata": {},
     "output_type": "execute_result"
    }
   ],
   "source": [
    "import importlib\n",
    "import utils.text_cleaning\n",
    "importlib.reload(utils.text_cleaning)"
   ]
  },
  {
   "cell_type": "code",
   "execution_count": 119,
   "id": "cd85ccd6",
   "metadata": {},
   "outputs": [],
   "source": [
    "save_path = \"../data/silver/\"\n",
    "file_to_save = \"supplements_catalog.csv\""
   ]
  },
  {
   "cell_type": "code",
   "execution_count": 120,
   "id": "dc5cf5e6",
   "metadata": {},
   "outputs": [
    {
     "data": {
      "text/html": [
       "<div>\n",
       "<style scoped>\n",
       "    .dataframe tbody tr th:only-of-type {\n",
       "        vertical-align: middle;\n",
       "    }\n",
       "\n",
       "    .dataframe tbody tr th {\n",
       "        vertical-align: top;\n",
       "    }\n",
       "\n",
       "    .dataframe thead th {\n",
       "        text-align: right;\n",
       "    }\n",
       "</style>\n",
       "<table border=\"1\" class=\"dataframe\">\n",
       "  <thead>\n",
       "    <tr style=\"text-align: right;\">\n",
       "      <th></th>\n",
       "      <th>Name</th>\n",
       "      <th>Url</th>\n",
       "    </tr>\n",
       "  </thead>\n",
       "  <tbody>\n",
       "    <tr>\n",
       "      <th>0</th>\n",
       "      <td>Abscess Root</td>\n",
       "      <td>https://www.webmd.com/vitamins/ai/ingredientmo...</td>\n",
       "    </tr>\n",
       "    <tr>\n",
       "      <th>1</th>\n",
       "      <td>Abuta</td>\n",
       "      <td>https://www.webmd.com/vitamins/ai/ingredientmo...</td>\n",
       "    </tr>\n",
       "    <tr>\n",
       "      <th>2</th>\n",
       "      <td>Acacia Rigidula</td>\n",
       "      <td>https://www.webmd.com/vitamins/ai/ingredientmo...</td>\n",
       "    </tr>\n",
       "    <tr>\n",
       "      <th>3</th>\n",
       "      <td>Acai</td>\n",
       "      <td>https://www.webmd.com/vitamins/ai/ingredientmo...</td>\n",
       "    </tr>\n",
       "    <tr>\n",
       "      <th>4</th>\n",
       "      <td>Acerola</td>\n",
       "      <td>https://www.webmd.com/vitamins/ai/ingredientmo...</td>\n",
       "    </tr>\n",
       "    <tr>\n",
       "      <th>...</th>\n",
       "      <td>...</td>\n",
       "      <td>...</td>\n",
       "    </tr>\n",
       "    <tr>\n",
       "      <th>1274</th>\n",
       "      <td>Yucca</td>\n",
       "      <td>https://www.webmd.com/vitamins/ai/ingredientmo...</td>\n",
       "    </tr>\n",
       "    <tr>\n",
       "      <th>1275</th>\n",
       "      <td>Zeaxanthin</td>\n",
       "      <td>https://www.webmd.com/vitamins/ai/ingredientmo...</td>\n",
       "    </tr>\n",
       "    <tr>\n",
       "      <th>1276</th>\n",
       "      <td>Zedoary</td>\n",
       "      <td>https://www.webmd.com/vitamins/ai/ingredientmo...</td>\n",
       "    </tr>\n",
       "    <tr>\n",
       "      <th>1277</th>\n",
       "      <td>Zinc</td>\n",
       "      <td>https://www.webmd.com/vitamins/ai/ingredientmo...</td>\n",
       "    </tr>\n",
       "    <tr>\n",
       "      <th>1278</th>\n",
       "      <td>Zizyphus</td>\n",
       "      <td>https://www.webmd.com/vitamins/ai/ingredientmo...</td>\n",
       "    </tr>\n",
       "  </tbody>\n",
       "</table>\n",
       "<p>1279 rows × 2 columns</p>\n",
       "</div>"
      ],
      "text/plain": [
       "                 Name                                                Url\n",
       "0        Abscess Root  https://www.webmd.com/vitamins/ai/ingredientmo...\n",
       "1               Abuta  https://www.webmd.com/vitamins/ai/ingredientmo...\n",
       "2     Acacia Rigidula  https://www.webmd.com/vitamins/ai/ingredientmo...\n",
       "3                Acai  https://www.webmd.com/vitamins/ai/ingredientmo...\n",
       "4             Acerola  https://www.webmd.com/vitamins/ai/ingredientmo...\n",
       "...               ...                                                ...\n",
       "1274            Yucca  https://www.webmd.com/vitamins/ai/ingredientmo...\n",
       "1275       Zeaxanthin  https://www.webmd.com/vitamins/ai/ingredientmo...\n",
       "1276          Zedoary  https://www.webmd.com/vitamins/ai/ingredientmo...\n",
       "1277             Zinc  https://www.webmd.com/vitamins/ai/ingredientmo...\n",
       "1278         Zizyphus  https://www.webmd.com/vitamins/ai/ingredientmo...\n",
       "\n",
       "[1279 rows x 2 columns]"
      ]
     },
     "execution_count": 120,
     "metadata": {},
     "output_type": "execute_result"
    }
   ],
   "source": [
    "dfSupplements = pd.read_csv(\"../data/bronze/supplements_list.csv\")\n",
    "dfSupplements"
   ]
  },
  {
   "cell_type": "code",
   "execution_count": 121,
   "id": "686f1c32",
   "metadata": {},
   "outputs": [],
   "source": [
    "df = pd.read_json(\"../data/bronze/supplements_information.json\")\n",
    "df = df.T"
   ]
  },
  {
   "cell_type": "code",
   "execution_count": 122,
   "id": "5b51ef98",
   "metadata": {},
   "outputs": [
    {
     "name": "stdout",
     "output_type": "stream",
     "text": [
      "Index(['Overview', 'Uses', 'SideEffects', 'Precautions', 'Interactions',\n",
      "       'Dosing', 'Reviews'],\n",
      "      dtype='object')\n"
     ]
    }
   ],
   "source": [
    "print(df.columns)"
   ]
  },
  {
   "cell_type": "code",
   "execution_count": 123,
   "id": "4b3d813b",
   "metadata": {},
   "outputs": [
    {
     "name": "stdout",
     "output_type": "stream",
     "text": [
      "<class 'pandas.core.frame.DataFrame'>\n",
      "Index: 1279 entries, Abscess Root to Zizyphus\n",
      "Data columns (total 7 columns):\n",
      " #   Column        Non-Null Count  Dtype \n",
      "---  ------        --------------  ----- \n",
      " 0   Overview      1279 non-null   object\n",
      " 1   Uses          1279 non-null   object\n",
      " 2   SideEffects   1279 non-null   object\n",
      " 3   Precautions   1279 non-null   object\n",
      " 4   Interactions  1279 non-null   object\n",
      " 5   Dosing        1279 non-null   object\n",
      " 6   Reviews       1279 non-null   object\n",
      "dtypes: object(7)\n",
      "memory usage: 112.2+ KB\n"
     ]
    }
   ],
   "source": [
    "df.info()"
   ]
  },
  {
   "cell_type": "code",
   "execution_count": 124,
   "id": "8e8d67e5",
   "metadata": {},
   "outputs": [],
   "source": [
    "dfsupplements = df[[\"Overview\",\"SideEffects\",\"Precautions\",\"Dosing\"]].copy()\n",
    "dfsupplements[\"Supplement\"] = dfsupplements.index\n",
    "dfsupplements = dfsupplements.reset_index(drop=True)[[\"Supplement\",\"Overview\",\"SideEffects\",\"Precautions\",\"Dosing\"]]"
   ]
  },
  {
   "cell_type": "code",
   "execution_count": 125,
   "id": "5b079f75",
   "metadata": {},
   "outputs": [],
   "source": [
    "dfsupplements[\"Overview_Cleaned\"] = dfsupplements[\"Overview\"].apply(tc)\n",
    "dfsupplements[\"SideEffects_Cleaned\"] = dfsupplements[\"SideEffects\"].apply(tc)\n",
    "dfsupplements[\"Precautions_Cleaned\"] = dfsupplements[\"Precautions\"].apply(tc)\n",
    "dfsupplements[\"Dosing_Cleaned\"] = dfsupplements[\"Dosing\"].apply(tc)\n",
    "dfsupplements.drop(columns=[\"Overview\",\"SideEffects\",\"Precautions\",\"Dosing\"], inplace=True)\n"
   ]
  },
  {
   "cell_type": "code",
   "execution_count": 126,
   "id": "934101f2",
   "metadata": {},
   "outputs": [],
   "source": [
    "dfsupplements.rename(columns={\n",
    "    \"Overview_Cleaned\": \"Overview\",\n",
    "    \"SideEffects_Cleaned\": \"SideEffects\",\n",
    "    \"Precautions_Cleaned\": \"Precautions\",\n",
    "    \"Dosing_Cleaned\": \"Dosing\",\n",
    "}, inplace=True)"
   ]
  },
  {
   "cell_type": "code",
   "execution_count": 127,
   "id": "3f221b41",
   "metadata": {},
   "outputs": [
    {
     "data": {
      "text/html": [
       "<div>\n",
       "<style scoped>\n",
       "    .dataframe tbody tr th:only-of-type {\n",
       "        vertical-align: middle;\n",
       "    }\n",
       "\n",
       "    .dataframe tbody tr th {\n",
       "        vertical-align: top;\n",
       "    }\n",
       "\n",
       "    .dataframe thead th {\n",
       "        text-align: right;\n",
       "    }\n",
       "</style>\n",
       "<table border=\"1\" class=\"dataframe\">\n",
       "  <thead>\n",
       "    <tr style=\"text-align: right;\">\n",
       "      <th></th>\n",
       "      <th>Supplement</th>\n",
       "      <th>Overview</th>\n",
       "      <th>SideEffects</th>\n",
       "      <th>Precautions</th>\n",
       "      <th>Dosing</th>\n",
       "    </tr>\n",
       "  </thead>\n",
       "  <tbody>\n",
       "    <tr>\n",
       "      <th>0</th>\n",
       "      <td>Abscess Root</td>\n",
       "      <td>Abscess root (Polemonium reptans) is an herb. ...</td>\n",
       "      <td>When taken by mouth: There isn't enough reliab...</td>\n",
       "      <td>When taken by mouth: There isn't enough reliab...</td>\n",
       "      <td>Ground abscess root is traditionally used to m...</td>\n",
       "    </tr>\n",
       "    <tr>\n",
       "      <th>1</th>\n",
       "      <td>Abuta</td>\n",
       "      <td>Abuta (Cissampelos pareira) is a climbing plan...</td>\n",
       "      <td>When taken by mouth: There isn't enough reliab...</td>\n",
       "      <td>When taken by mouth: There isn't enough reliab...</td>\n",
       "      <td>There isn't enough reliable information to kno...</td>\n",
       "    </tr>\n",
       "    <tr>\n",
       "      <th>2</th>\n",
       "      <td>Acacia Rigidula</td>\n",
       "      <td>Acacia rigidula is a shrub found in Texas and ...</td>\n",
       "      <td>When taken by mouth: Acacia rigidula is possib...</td>\n",
       "      <td>When taken by mouth: Acacia rigidula is possib...</td>\n",
       "      <td>There isn't enough reliable information to kno...</td>\n",
       "    </tr>\n",
       "    <tr>\n",
       "      <th>3</th>\n",
       "      <td>Acai</td>\n",
       "      <td>Acai (Euterpe oleracea), pronounced AH-sigh-EE...</td>\n",
       "      <td>When taken by mouth: Acai is possibly safe whe...</td>\n",
       "      <td>When taken by mouth: Acai is possibly safe whe...</td>\n",
       "      <td>As a food, the acai berry is eaten raw and as ...</td>\n",
       "    </tr>\n",
       "    <tr>\n",
       "      <th>4</th>\n",
       "      <td>Acerola</td>\n",
       "      <td>Acerola (Malpighia emarginata) is a shrub or s...</td>\n",
       "      <td>When taken by mouth: Acerola fruit is possibly...</td>\n",
       "      <td>When taken by mouth: Acerola fruit is possibly...</td>\n",
       "      <td>There isn't enough reliable information to kno...</td>\n",
       "    </tr>\n",
       "    <tr>\n",
       "      <th>...</th>\n",
       "      <td>...</td>\n",
       "      <td>...</td>\n",
       "      <td>...</td>\n",
       "      <td>...</td>\n",
       "      <td>...</td>\n",
       "    </tr>\n",
       "    <tr>\n",
       "      <th>1274</th>\n",
       "      <td>Yucca</td>\n",
       "      <td>Yucca is the common name for more than 40 spec...</td>\n",
       "      <td>When taken by mouth: Yucca is commonly consume...</td>\n",
       "      <td>When taken by mouth: Yucca is commonly consume...</td>\n",
       "      <td>There isn't enough reliable information to kno...</td>\n",
       "    </tr>\n",
       "    <tr>\n",
       "      <th>1275</th>\n",
       "      <td>Zeaxanthin</td>\n",
       "      <td>Zeaxanthin is a type of organic pigment called...</td>\n",
       "      <td>When taken by mouth: Zeaxanthin is likely safe...</td>\n",
       "      <td>Pregnancy and breast-feeding: Zeaxanthin is co...</td>\n",
       "      <td>Zeaxanthin is found in many foods, with orange...</td>\n",
       "    </tr>\n",
       "    <tr>\n",
       "      <th>1276</th>\n",
       "      <td>Zedoary</td>\n",
       "      <td>Zedoary is a plant. The underground stem (rhiz...</td>\n",
       "      <td>When taken by mouth: There isn't enough reliab...</td>\n",
       "      <td>When taken by mouth: There isn't enough reliab...</td>\n",
       "      <td>The appropriate dose of zedoary depends on sev...</td>\n",
       "    </tr>\n",
       "    <tr>\n",
       "      <th>1277</th>\n",
       "      <td>Zinc</td>\n",
       "      <td>Zinc is an essential trace element commonly fo...</td>\n",
       "      <td>When taken by mouth: Zinc is likely safe when ...</td>\n",
       "      <td>When taken by mouth: Zinc is likely safe when ...</td>\n",
       "      <td>Zinc is an essential nutrient found in foods s...</td>\n",
       "    </tr>\n",
       "    <tr>\n",
       "      <th>1278</th>\n",
       "      <td>Zizyphus</td>\n",
       "      <td>Zizyphus (Ziziphus jujuba) is a thorny shrub. ...</td>\n",
       "      <td>When taken by mouth: Zizyphus fruit is commonl...</td>\n",
       "      <td>When taken by mouth: Zizyphus fruit is commonl...</td>\n",
       "      <td>Zizyphus fruit is commonly eaten as a food.\\n\\...</td>\n",
       "    </tr>\n",
       "  </tbody>\n",
       "</table>\n",
       "<p>1279 rows × 5 columns</p>\n",
       "</div>"
      ],
      "text/plain": [
       "           Supplement                                           Overview  \\\n",
       "0        Abscess Root  Abscess root (Polemonium reptans) is an herb. ...   \n",
       "1               Abuta  Abuta (Cissampelos pareira) is a climbing plan...   \n",
       "2     Acacia Rigidula  Acacia rigidula is a shrub found in Texas and ...   \n",
       "3                Acai  Acai (Euterpe oleracea), pronounced AH-sigh-EE...   \n",
       "4             Acerola  Acerola (Malpighia emarginata) is a shrub or s...   \n",
       "...               ...                                                ...   \n",
       "1274            Yucca  Yucca is the common name for more than 40 spec...   \n",
       "1275       Zeaxanthin  Zeaxanthin is a type of organic pigment called...   \n",
       "1276          Zedoary  Zedoary is a plant. The underground stem (rhiz...   \n",
       "1277             Zinc  Zinc is an essential trace element commonly fo...   \n",
       "1278         Zizyphus  Zizyphus (Ziziphus jujuba) is a thorny shrub. ...   \n",
       "\n",
       "                                            SideEffects  \\\n",
       "0     When taken by mouth: There isn't enough reliab...   \n",
       "1     When taken by mouth: There isn't enough reliab...   \n",
       "2     When taken by mouth: Acacia rigidula is possib...   \n",
       "3     When taken by mouth: Acai is possibly safe whe...   \n",
       "4     When taken by mouth: Acerola fruit is possibly...   \n",
       "...                                                 ...   \n",
       "1274  When taken by mouth: Yucca is commonly consume...   \n",
       "1275  When taken by mouth: Zeaxanthin is likely safe...   \n",
       "1276  When taken by mouth: There isn't enough reliab...   \n",
       "1277  When taken by mouth: Zinc is likely safe when ...   \n",
       "1278  When taken by mouth: Zizyphus fruit is commonl...   \n",
       "\n",
       "                                            Precautions  \\\n",
       "0     When taken by mouth: There isn't enough reliab...   \n",
       "1     When taken by mouth: There isn't enough reliab...   \n",
       "2     When taken by mouth: Acacia rigidula is possib...   \n",
       "3     When taken by mouth: Acai is possibly safe whe...   \n",
       "4     When taken by mouth: Acerola fruit is possibly...   \n",
       "...                                                 ...   \n",
       "1274  When taken by mouth: Yucca is commonly consume...   \n",
       "1275  Pregnancy and breast-feeding: Zeaxanthin is co...   \n",
       "1276  When taken by mouth: There isn't enough reliab...   \n",
       "1277  When taken by mouth: Zinc is likely safe when ...   \n",
       "1278  When taken by mouth: Zizyphus fruit is commonl...   \n",
       "\n",
       "                                                 Dosing  \n",
       "0     Ground abscess root is traditionally used to m...  \n",
       "1     There isn't enough reliable information to kno...  \n",
       "2     There isn't enough reliable information to kno...  \n",
       "3     As a food, the acai berry is eaten raw and as ...  \n",
       "4     There isn't enough reliable information to kno...  \n",
       "...                                                 ...  \n",
       "1274  There isn't enough reliable information to kno...  \n",
       "1275  Zeaxanthin is found in many foods, with orange...  \n",
       "1276  The appropriate dose of zedoary depends on sev...  \n",
       "1277  Zinc is an essential nutrient found in foods s...  \n",
       "1278  Zizyphus fruit is commonly eaten as a food.\\n\\...  \n",
       "\n",
       "[1279 rows x 5 columns]"
      ]
     },
     "execution_count": 127,
     "metadata": {},
     "output_type": "execute_result"
    }
   ],
   "source": [
    "dfsupplements"
   ]
  },
  {
   "cell_type": "code",
   "execution_count": 128,
   "id": "8f6dd82e",
   "metadata": {},
   "outputs": [],
   "source": [
    "dfsupplements.to_csv(os.path.join(save_path, file_to_save), index=False)"
   ]
  },
  {
   "cell_type": "markdown",
   "id": "583d79a9",
   "metadata": {},
   "source": [
    "## REVIEWS"
   ]
  },
  {
   "cell_type": "code",
   "execution_count": null,
   "id": "0dd509d6",
   "metadata": {},
   "outputs": [],
   "source": []
  },
  {
   "cell_type": "markdown",
   "id": "da9ea1db",
   "metadata": {},
   "source": []
  },
  {
   "cell_type": "code",
   "execution_count": null,
   "id": "ae863a90",
   "metadata": {},
   "outputs": [],
   "source": []
  }
 ],
 "metadata": {
  "kernelspec": {
   "display_name": "env",
   "language": "python",
   "name": "python3"
  },
  "language_info": {
   "codemirror_mode": {
    "name": "ipython",
    "version": 3
   },
   "file_extension": ".py",
   "mimetype": "text/x-python",
   "name": "python",
   "nbconvert_exporter": "python",
   "pygments_lexer": "ipython3",
   "version": "3.11.9"
  }
 },
 "nbformat": 4,
 "nbformat_minor": 5
}
