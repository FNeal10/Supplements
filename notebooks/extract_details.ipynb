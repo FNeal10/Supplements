{
 "cells": [
  {
   "cell_type": "code",
   "execution_count": 5,
   "metadata": {},
   "outputs": [],
   "source": [
    "import pandas as pd\n",
    "from time import sleep\n",
    "import json\n",
    "import pprint"
   ]
  },
  {
   "cell_type": "code",
   "execution_count": 6,
   "metadata": {},
   "outputs": [],
   "source": [
    "from selenium import webdriver\n",
    "from selenium.webdriver.common.by import By\n",
    "from selenium.webdriver.support.ui import WebDriverWait\n",
    "from selenium.webdriver.support import expected_conditions as EC\n",
    "from selenium.webdriver.chrome.service import Service\n",
    "from webdriver_manager.chrome import ChromeDriverManager"
   ]
  },
  {
   "cell_type": "code",
   "execution_count": 78,
   "metadata": {},
   "outputs": [],
   "source": [
    "supplements = pd.read_csv(\"Supplements.csv\")"
   ]
  },
  {
   "cell_type": "code",
   "execution_count": 79,
   "metadata": {},
   "outputs": [],
   "source": [
    "supplements = supplements[supplements[\"Name\"] == \"Aloe\"]"
   ]
  },
  {
   "cell_type": "markdown",
   "metadata": {},
   "source": [
    "## FUNCTIONS"
   ]
  },
  {
   "cell_type": "code",
   "execution_count": 41,
   "metadata": {},
   "outputs": [],
   "source": [
    "def get_information(waitTime, tabName, supplementName, cssSelector):\n",
    "    info = \"\"\n",
    "    try:\n",
    "        container = waitTime.until(EC.presence_of_element_located((By.CSS_SELECTOR, cssSelector)))\n",
    "        div_text = container.text\n",
    "\n",
    "        info = div_text\n",
    "    except Exception as e:\n",
    "        print(f\"Error in getting {tabName} for: {supplementName} {e}\")    \n",
    "    finally:\n",
    "        return info"
   ]
  },
  {
   "cell_type": "code",
   "execution_count": 42,
   "metadata": {},
   "outputs": [],
   "source": [
    "def get_uses(waitTime, supplementName):\n",
    "    uses = {}\n",
    "    try:\n",
    "        container = waitTime.until(EC.presence_of_element_located((By.ID, \"uses-container\")))        \n",
    "        try:\n",
    "            no_data = container.find_element(By.CSS_SELECTOR, \"p.no-data-text\")\n",
    "            if no_data:\n",
    "                return uses\n",
    "        except:\n",
    "            pass  \n",
    "        \n",
    "        parent_div = container.find_element(By.XPATH, \"./div\")\n",
    "        child_divs = parent_div.find_elements(By.CSS_SELECTOR, \".vitamins-monograph-content.uses-content\")\n",
    "        \n",
    "        tag_h3 = parent_div.find_elements(By.TAG_NAME, 'h3')\n",
    "        \n",
    "        if len(tag_h3) >= 1:\n",
    "            ctr = 0  \n",
    "            for child in child_divs:\n",
    "                li_list = []\n",
    "                \n",
    "                ul_elements = child.find_elements(By.TAG_NAME, 'ul')\n",
    "                \n",
    "                if not ul_elements:\n",
    "                    continue\n",
    "                \n",
    "                for ul in ul_elements:\n",
    "                    li_elements = ul.find_elements(By.TAG_NAME, 'li')\n",
    "                    for li in li_elements:\n",
    "                        li_list.append([li.text])\n",
    "                        \n",
    "                uses[tag_h3[ctr].text] = li_list\n",
    "                ctr += 1\n",
    "                \n",
    "    except Exception as e:\n",
    "        print(f\"Error in getting uses for: {supplementName} {e}\")    \n",
    "    finally:\n",
    "        return uses\n"
   ]
  },
  {
   "cell_type": "code",
   "execution_count": 43,
   "metadata": {},
   "outputs": [],
   "source": [
    "def get_interactions(waitTime, supplementName):\n",
    "    interactions = {}  \n",
    "\n",
    "    try:\n",
    "        try:\n",
    "            no_data = waitTime.until(EC.presence_of_element_located(\n",
    "                (By.CSS_SELECTOR, \"#interactions-container .no-data-text\")\n",
    "            ))\n",
    "            if no_data:\n",
    "                return interactions \n",
    "        except:\n",
    "            pass  \n",
    "\n",
    "        container = waitTime.until(EC.presence_of_element_located(\n",
    "            (By.CSS_SELECTOR, \".vitamins-monograph-content.interactions-content\")  \n",
    "        ))\n",
    "\n",
    "        tag_ul = container.find_elements(By.TAG_NAME, 'ul')\n",
    "        if len(tag_ul) >= 1:\n",
    "            for ul in tag_ul:\n",
    "                tag_li = ul.find_elements(By.TAG_NAME, 'li')\n",
    "\n",
    "                for li in tag_li:\n",
    "                    h3_elements = li.find_elements(By.TAG_NAME, 'h3')\n",
    "                    p_elements = li.find_elements(By.TAG_NAME, 'p')\n",
    "\n",
    "                    for h3, p in zip(h3_elements, p_elements):\n",
    "                        interactions[h3.text] = p.text\n",
    "\n",
    "    except Exception as e:\n",
    "        print(f\"Error in getting interactions for: {supplementName} - {e}\")\n",
    "\n",
    "    finally:\n",
    "        return interactions \n"
   ]
  },
  {
   "cell_type": "code",
   "execution_count": 80,
   "metadata": {},
   "outputs": [],
   "source": [
    "def get_reviewURL(driver, waitTime, supplementName):\n",
    "    reviews = {}  \n",
    "    try:\n",
    "        try:\n",
    "            ul_1 = driver.find_element(By.CSS_SELECTOR, \".tabs-container-holder .tabs-container .auto-tabs\")\n",
    "        except Exception:\n",
    "            ul_1 = None\n",
    "\n",
    "        try:\n",
    "            ul_2 = waitTime.until(EC.presence_of_element_located(\n",
    "                (By.CSS_SELECTOR, \".auto-container-holder .auto-tabs-container .auto-tabs\")\n",
    "            ))\n",
    "        except Exception:\n",
    "            ul_2 = None\n",
    "        \n",
    "        if ul_1:\n",
    "            ul = ul_1\n",
    "        elif ul_2:\n",
    "            ul = ul_2\n",
    "        else:\n",
    "            return {}\n",
    "\n",
    "        li_items = ul.find_elements(By.TAG_NAME, 'li')\n",
    "        if li_items:\n",
    "            last_li = li_items[-1] \n",
    "            a_tag = last_li.find_element(By.TAG_NAME, 'a')\n",
    "\n",
    "            href_value = a_tag.get_attribute('href')\n",
    "            a_text = a_tag.text \n",
    "\n",
    "            reviews = {\n",
    "                'NumberOfReviews': a_text,\n",
    "                'Url': href_value\n",
    "            }\n",
    "\n",
    "    except Exception as e:\n",
    "        print(f\"Error in getting review details for: {supplementName} - {e}\")\n",
    "    finally:\n",
    "        return reviews\n"
   ]
  },
  {
   "cell_type": "code",
   "execution_count": null,
   "metadata": {},
   "outputs": [],
   "source": [
    "supplement_info = {}\n",
    "\n",
    "driver = webdriver.Chrome(service=Service(ChromeDriverManager().install()))\n",
    "waitTime = WebDriverWait(driver,10)\n",
    "\n",
    "for _, info in supplements.iterrows():\n",
    "\n",
    "    supplementName = info.Name\n",
    "    supplementURL = info.Url\n",
    "    \n",
    "    driver.get(supplementURL)       \n",
    "\n",
    "    overview = get_information(waitTime, \"overview\", supplementName, \".vitamins-monograph-content.overview-content\")\n",
    "    uses = get_uses(waitTime, supplementName)\n",
    "    sideEffects = get_information(waitTime, \"side effects\", supplementName, \".vitamins-monograph-content.side-effects-content\")\n",
    "    preCautions = get_information(waitTime, \"precautions\", supplementName, \".vitamins-monograph-content.precautions-content\")\n",
    "    interactions = get_interactions(waitTime, supplementName)\n",
    "    dosing = get_information(waitTime, \"dosing\", supplementName, \"vitamins-monograph-content.dosage-content\")\n",
    "    reviews = get_reviewURL(driver, waitTime, supplementName)\n",
    "\n",
    "\n",
    "    supplement_info[supplementName] = {\n",
    "         \"Overview\": overview,\n",
    "         \"Uses\": uses,\n",
    "         \"SideEffects\": sideEffects,\n",
    "         \"Precautions\": preCautions,\n",
    "         \"Interactions\": interactions,\n",
    "         \"Dosing\": dosing,\n",
    "         \"Reviews\" : reviews\n",
    "    }\n",
    "    sleep(2)\n",
    "driver.quit()"
   ]
  },
  {
   "cell_type": "code",
   "execution_count": 82,
   "metadata": {},
   "outputs": [
    {
     "data": {
      "text/plain": [
       "{'Aloe': {'Reviews': {'NumberOfReviews': 'Reviews (56)',\n",
       "   'Url': 'https://reviews.webmd.com/vitamins-supplements/ingredientreview-607-ALOE'}}}"
      ]
     },
     "execution_count": 82,
     "metadata": {},
     "output_type": "execute_result"
    }
   ],
   "source": [
    "supplement_info"
   ]
  },
  {
   "cell_type": "code",
   "execution_count": null,
   "metadata": {},
   "outputs": [],
   "source": []
  }
 ],
 "metadata": {
  "kernelspec": {
   "display_name": "env",
   "language": "python",
   "name": "python3"
  },
  "language_info": {
   "codemirror_mode": {
    "name": "ipython",
    "version": 3
   },
   "file_extension": ".py",
   "mimetype": "text/x-python",
   "name": "python",
   "nbconvert_exporter": "python",
   "pygments_lexer": "ipython3",
   "version": "3.11.9"
  }
 },
 "nbformat": 4,
 "nbformat_minor": 2
}
