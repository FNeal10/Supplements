{
 "cells": [
  {
   "cell_type": "code",
   "execution_count": 101,
   "id": "e3e40f31",
   "metadata": {},
   "outputs": [],
   "source": [
    "import json\n",
    "import gc"
   ]
  },
  {
   "cell_type": "code",
   "execution_count": 102,
   "id": "9c65e664",
   "metadata": {},
   "outputs": [],
   "source": [
    "from time import sleep\n",
    "from selenium import webdriver\n",
    "from selenium.webdriver.common.by import By\n",
    "from selenium.webdriver.support.ui import WebDriverWait\n",
    "from selenium.webdriver.support import expected_conditions as EC\n",
    "from selenium.webdriver.chrome.service import Service\n",
    "from webdriver_manager.chrome import ChromeDriverManager"
   ]
  },
  {
   "cell_type": "code",
   "execution_count": 103,
   "id": "8c3e0aed",
   "metadata": {},
   "outputs": [],
   "source": [
    "from selenium.common.exceptions import NoSuchElementException"
   ]
  },
  {
   "cell_type": "code",
   "execution_count": null,
   "id": "aac1d1ab",
   "metadata": {},
   "outputs": [],
   "source": [
    "save_path = \"../data/bronze/\"\n",
    "file_to_save = \"user_reviews.json\""
   ]
  },
  {
   "cell_type": "code",
   "execution_count": 104,
   "id": "c05654c9",
   "metadata": {},
   "outputs": [],
   "source": [
    "with open(\"../data/bronze/Details.json\", 'r') as json_file:\n",
    "    data = json.load(json_file)"
   ]
  },
  {
   "cell_type": "markdown",
   "id": "a862a74a",
   "metadata": {},
   "source": [
    "## FUNCTIONS"
   ]
  },
  {
   "cell_type": "code",
   "execution_count": 105,
   "id": "98895eea",
   "metadata": {},
   "outputs": [],
   "source": [
    "def get_number(text: str):\n",
    "    cleaned = re.findall(r'\\d+', text)[0]\n",
    "    return int(cleaned)"
   ]
  },
  {
   "cell_type": "code",
   "execution_count": 106,
   "id": "3b138705",
   "metadata": {},
   "outputs": [],
   "source": [
    "def get_header(parent_container, supplement):\n",
    "    information = {}\n",
    "    try:\n",
    "        card_header = parent_container.find_element(By.CLASS_NAME, \"card-header\")\n",
    "        header_text = card_header.find_element(By.CLASS_NAME, \"details\").text\n",
    "        header_date = card_header.find_element(By.CLASS_NAME, \"date\").text\n",
    "        header_condition = parent_container.find_element(By.TAG_NAME, \"strong\").text\n",
    "        \n",
    "        information = {\n",
    "            \"Information\": header_text,\n",
    "            \"Date\": header_date,\n",
    "            \"Condition\": header_condition\n",
    "        }\n",
    "    except Exception as e:\n",
    "        print(f\"Exception error encountered getting information for supplement {supplement} - {e}\")   \n",
    "    return information"
   ]
  },
  {
   "cell_type": "code",
   "execution_count": 107,
   "id": "09337dd0",
   "metadata": {},
   "outputs": [],
   "source": [
    "def get_rating(parent_container, supplement):\n",
    "    rating = {}\n",
    "    try:        \n",
    "        rating_container = parent_container.find_element(By.CLASS_NAME,\"overall-rating\")      \n",
    "        rating_text = rating_container.find_element(By.TAG_NAME, \"strong\").text\n",
    "        rating = {\n",
    "            \"Rating\": rating_text\n",
    "        }\n",
    "    except Exception as e:\n",
    "        print(f\"Exception error encountered getting rating for supplement {supplement} - {e}\")   \n",
    "    finally:\n",
    "        return rating"
   ]
  },
  {
   "cell_type": "code",
   "execution_count": 108,
   "id": "c8b0b99d",
   "metadata": {},
   "outputs": [],
   "source": [
    "def get_categories(parent_container, supplement):\n",
    "    categories = {}\n",
    "    try:        \n",
    "        categories_container = parent_container.find_element(By.CLASS_NAME,\"categories\")\n",
    "        section_tags = categories_container.find_elements(By.TAG_NAME, \"section\")\n",
    "        for tag in section_tags:\n",
    "            try:\n",
    "                strong_text = tag.find_element(By.TAG_NAME, \"strong\").text\n",
    "                \n",
    "                categories_div = tag.find_element(By.CSS_SELECTOR, \".webmd-rate.on-mobile\")\n",
    "                categories_value = categories_div.get_attribute(\"aria-valuenow\")\n",
    "\n",
    "                categories[strong_text] = categories_value\n",
    "            except Exception as e:\n",
    "                continue\n",
    "    except Exception as e:\n",
    "        print(f\"Exception error encountered getting categories for supplement {supplement} - {e}\")   \n",
    "    finally:\n",
    "        return categories"
   ]
  },
  {
   "cell_type": "code",
   "execution_count": 109,
   "id": "6c2b6bb4",
   "metadata": {},
   "outputs": [],
   "source": [
    "def get_comment(parent_container, supplement):\n",
    "    description = {\"Comment\": \"\"}\n",
    "    try:\n",
    "        \n",
    "        desc_container = parent_container.find_element(By.CLASS_NAME,\"description\")    \n",
    "        check_span = desc_container.find_elements(By.CSS_SELECTOR, \"span.readMore\")\n",
    "        if check_span:\n",
    "            check_span[0].click()      \n",
    "        \n",
    "        desc_text = desc_container.find_element(By.CLASS_NAME, \"description-text\")\n",
    "        description = {\n",
    "            \"Comment\": desc_text.text.replace(\" Read Less\",\"\")\n",
    "        }\n",
    "    except NoSuchElementException:\n",
    "        print(f\"Element not found in comments\")   \n",
    "    except Exception as e:\n",
    "        print(f\"Exception error encountered getting comment for supplement {supplement} - {e}\")   \n",
    "    finally:\n",
    "        return description"
   ]
  },
  {
   "cell_type": "code",
   "execution_count": 110,
   "id": "aed2f419",
   "metadata": {},
   "outputs": [],
   "source": [
    "def get_reviews(url, driver, waitTime, lastCount, supplement):\n",
    "    try:\n",
    "        ctr = lastCount\n",
    "        reviews_by_page = {}\n",
    "\n",
    "        driver.get(url)\n",
    "        \n",
    "        \n",
    "        container = waitTime.until(EC.presence_of_element_located((By.CSS_SELECTOR, \".reviews-page .shared-reviews-container\")))\n",
    "        \n",
    "        review_card_holder = container.find_elements(By.CSS_SELECTOR, \".review-details-holder\")\n",
    "        \n",
    "        for holder in review_card_holder:\n",
    "            print(f\"Getting REVIEW: {ctr}\")\n",
    "            review_details = holder.find_element(By.CSS_SELECTOR, \".review-details\")\n",
    "            \n",
    "            headers = get_header(review_details, supplement)\n",
    "            rating = get_rating(review_details, supplement)\n",
    "            categories = get_categories(review_details, supplement)\n",
    "            comment = get_comment(review_details, supplement)\n",
    "            \n",
    "            full_review = {**headers, **rating, **categories, **comment}\n",
    "            \n",
    "            reviews_by_page[f\"Review {ctr}\"] = full_review\n",
    "            ctr += 1\n",
    "    except NoSuchElementException:\n",
    "        print(f\"Element not found in reviews\")   \n",
    "    except Exception as e: \n",
    "        print(f\"Exception error encountered getting reviews for supplement {supplement} - {e}\")   \n",
    "         \n",
    "    return reviews_by_page, ctr "
   ]
  },
  {
   "cell_type": "code",
   "execution_count": null,
   "id": "e38ad762",
   "metadata": {},
   "outputs": [],
   "source": []
  },
  {
   "cell_type": "code",
   "execution_count": null,
   "id": "52a1ef8c",
   "metadata": {},
   "outputs": [],
   "source": [
    "driver = webdriver.Chrome(service=Service(ChromeDriverManager().install()))\n",
    "waitTime = WebDriverWait(driver,10)\n",
    "reviews = {}\n",
    "for supplement, information in data.items():\n",
    "    try:        \n",
    "        supplement_review = {}\n",
    "        numReviews = get_number(information[\"Reviews\"]['NumberOfReviews'])\n",
    "        url = information[\"Reviews\"]['Url']\n",
    "\n",
    "        if numReviews == 0:\n",
    "            continue\n",
    "\n",
    "        try:\n",
    "            print(f\"Processing for SUPPLEMENT: {supplement}\")\n",
    "            driver.get(url)       \n",
    "                \n",
    "            container = waitTime.until(EC.presence_of_element_located((By.CSS_SELECTOR, \".reviews-page .shared-reviews-container\")))\n",
    "            ul_pagination = container.find_element(By.CSS_SELECTOR, \".pagination-holder .pagination-holder .pagination\")\n",
    "            li_items = ul_pagination.find_elements(By.CLASS_NAME, 'page-item')\n",
    "\n",
    "            pagination_urls = []\n",
    "            for li in li_items:\n",
    "                li_class = li.get_attribute(\"class\")\n",
    "                if 'disabled' in li_class:\n",
    "                    continue\n",
    "                \n",
    "                links = li.find_elements(By.TAG_NAME, 'a')\n",
    "                if links:\n",
    "                    pagination_urls.append(links[0].get_attribute(\"href\"))                \n",
    "                \n",
    "            lastCount = 1\n",
    "                \n",
    "            for urls in pagination_urls:                \n",
    "                details = get_reviews(urls, driver, waitTime, lastCount, supplement)\n",
    "                lastCount = details[1]\n",
    "                supplement_review.update(details[0])\n",
    "                    \n",
    "                if lastCount > 100:\n",
    "                    break\n",
    "\n",
    "            reviews[supplement] = supplement_review\n",
    "            sleep(2)\n",
    "            \n",
    "        except Exception as e:\n",
    "            print(f\"Exception error encountered for supplement {supplement} - {e}\")\n",
    "            continue\n",
    "    except Exception as e:\n",
    "        continue\n",
    "    \n",
    "driver.quit()\n",
    "del driver                  \n",
    "gc.collect()                 \n",
    "print(\"Resources cleaned up.\")"
   ]
  },
  {
   "cell_type": "code",
   "execution_count": null,
   "id": "25b5aae7",
   "metadata": {},
   "outputs": [],
   "source": [
    "file_path = f\"{save_path}{file_to_save}\"\n",
    "\n",
    "with open(file_path, 'w') as json_file:\n",
    "    json.dump(reviews, json_file, indent=4)"
   ]
  },
  {
   "cell_type": "code",
   "execution_count": null,
   "id": "be7d24d9",
   "metadata": {},
   "outputs": [],
   "source": []
  }
 ],
 "metadata": {
  "kernelspec": {
   "display_name": "env",
   "language": "python",
   "name": "python3"
  },
  "language_info": {
   "codemirror_mode": {
    "name": "ipython",
    "version": 3
   },
   "file_extension": ".py",
   "mimetype": "text/x-python",
   "name": "python",
   "nbconvert_exporter": "python",
   "pygments_lexer": "ipython3",
   "version": "3.11.4"
  }
 },
 "nbformat": 4,
 "nbformat_minor": 5
}
