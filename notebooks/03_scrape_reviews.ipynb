{
 "cells": [
  {
   "cell_type": "code",
   "execution_count": 5,
   "id": "e3e40f31",
   "metadata": {},
   "outputs": [],
   "source": [
    "import pandas as pd\n",
    "import re\n",
    "import json"
   ]
  },
  {
   "cell_type": "code",
   "execution_count": 6,
   "id": "9c65e664",
   "metadata": {},
   "outputs": [],
   "source": [
    "from time import sleep\n",
    "from selenium import webdriver\n",
    "from selenium.webdriver.common.by import By\n",
    "from selenium.webdriver.support.ui import WebDriverWait\n",
    "from selenium.webdriver.support import expected_conditions as EC\n",
    "from selenium.webdriver.chrome.service import Service\n",
    "from webdriver_manager.chrome import ChromeDriverManager"
   ]
  },
  {
   "cell_type": "code",
   "execution_count": 3,
   "id": "c05654c9",
   "metadata": {},
   "outputs": [],
   "source": [
    "with open(\"../data/bronze/Details.json\", 'r') as json_file:\n",
    "    data = json.load(json_file)"
   ]
  },
  {
   "cell_type": "code",
   "execution_count": null,
   "id": "06e5757f",
   "metadata": {},
   "outputs": [],
   "source": [
    "data"
   ]
  },
  {
   "cell_type": "markdown",
   "id": "a862a74a",
   "metadata": {},
   "source": [
    "## FUNCTIONS"
   ]
  },
  {
   "cell_type": "code",
   "execution_count": 8,
   "id": "98895eea",
   "metadata": {},
   "outputs": [],
   "source": [
    "def get_number(text: str):\n",
    "    cleaned = re.findall(r'\\d+', text)[0]\n",
    "    return int(cleaned)"
   ]
  },
  {
   "cell_type": "code",
   "execution_count": 32,
   "id": "3b138705",
   "metadata": {},
   "outputs": [],
   "source": [
    "def get_header(parent_container):\n",
    "    information = {}\n",
    "    try:\n",
    "        card_header = parent_container.find_element(By.CLASS_NAME, \"card-header\")\n",
    "        header_text = card_header.find_element(By.CLASS_NAME, \"details\").text\n",
    "        header_date = card_header.find_element(By.CLASS_NAME, \"date\").text\n",
    "        header_condition = parent_container.find_element(By.TAG_NAME, \"strong\").text\n",
    "\n",
    "        information = {\n",
    "            \"Information\": header_text,\n",
    "            \"Date\": header_date,\n",
    "            \"Condition\": header_condition\n",
    "        }\n",
    "    except Exception as e:\n",
    "        print(\"Error when getting information details\")\n",
    "    finally:\n",
    "        return information"
   ]
  },
  {
   "cell_type": "code",
   "execution_count": null,
   "id": "52a1ef8c",
   "metadata": {},
   "outputs": [
    {
     "name": "stdout",
     "output_type": "stream",
     "text": [
      "unhashable type: 'dict'\n"
     ]
    }
   ],
   "source": [
    "driver = webdriver.Chrome(service=Service(ChromeDriverManager().install()))\n",
    "waitTime = WebDriverWait(driver,10)\n",
    "reviews = {}\n",
    "\n",
    "for supplement, information in data.items():\n",
    "    numReviews = get_number(information[\"Reviews\"]['NumberOfReviews'])\n",
    "    url = information[\"Reviews\"]['Url']\n",
    "\n",
    "    if numReviews == 0:\n",
    "        continue\n",
    "\n",
    "    try:\n",
    "        driver.get(url)\n",
    "        \n",
    "        container = waitTime.until(EC.presence_of_element_located((By.CSS_SELECTOR, \".reviews-page .shared-reviews-container\")))\n",
    "        ul_pagination = container.find_element(By.CSS_SELECTOR, \".pagination-holder .pagination-holder .pagination\")\n",
    "        \n",
    "        li_items = ul_pagination.find_elements(By.TAG_NAME, 'li')\n",
    "\n",
    "        review_card_holder = container.find_elements(By.CSS_SELECTOR, \".review-details-holder\")\n",
    "        details = []\n",
    "        for holder in review_card_holder:\n",
    "            \n",
    "            review_details = holder.find_element(By.CSS_SELECTOR, \".review-details\")\n",
    "\n",
    "            headers = get_header(review_details)\n",
    "            description = get_description()\n",
    "\n",
    "            details.append({ \n",
    "                headers\n",
    "            })\n",
    "\n",
    "        reviews[supplement] = details\n",
    "\n",
    "    except Exception as e:\n",
    "        print(e)\n",
    "        continue\n",
    "\n",
    "driver.quit()"
   ]
  },
  {
   "cell_type": "code",
   "execution_count": 34,
   "id": "9c9574fc",
   "metadata": {},
   "outputs": [
    {
     "data": {
      "text/plain": [
       "{'Aloe': [{'Header': {'Information': 'ReflectiveGypsy | Age: 35-44 | On supplement for 10 years or more |',\n",
       "    'Date': '11/22/2014',\n",
       "    'Condition': 'Condition: Burns'}}]}"
      ]
     },
     "execution_count": 34,
     "metadata": {},
     "output_type": "execute_result"
    }
   ],
   "source": [
    "reviews"
   ]
  },
  {
   "cell_type": "code",
   "execution_count": null,
   "id": "b7094e06",
   "metadata": {},
   "outputs": [],
   "source": []
  }
 ],
 "metadata": {
  "kernelspec": {
   "display_name": "env",
   "language": "python",
   "name": "python3"
  },
  "language_info": {
   "codemirror_mode": {
    "name": "ipython",
    "version": 3
   },
   "file_extension": ".py",
   "mimetype": "text/x-python",
   "name": "python",
   "nbconvert_exporter": "python",
   "pygments_lexer": "ipython3",
   "version": "3.11.9"
  }
 },
 "nbformat": 4,
 "nbformat_minor": 5
}
