{
 "cells": [
  {
   "cell_type": "code",
   "execution_count": 1,
   "metadata": {},
   "outputs": [],
   "source": [
    "import pandas as pd\n",
    "import os"
   ]
  },
  {
   "cell_type": "code",
   "execution_count": 2,
   "metadata": {},
   "outputs": [],
   "source": [
    "from time import sleep\n",
    "from selenium import webdriver\n",
    "from selenium.webdriver.common.by import By\n",
    "from selenium.webdriver.support.ui import WebDriverWait\n",
    "from selenium.webdriver.support import expected_conditions as EC\n",
    "from selenium.webdriver.chrome.service import Service\n",
    "from webdriver_manager.chrome import ChromeDriverManager"
   ]
  },
  {
   "cell_type": "code",
   "execution_count": 3,
   "metadata": {},
   "outputs": [],
   "source": [
    "url = \"https://www.webmd.com/vitamins/alpha/\"\n",
    "letters = ['a','b','c','d','e','f','g','h','i','j','k','l','m','n',\n",
    "           'o','p','q','r','s','t','u','v','w','x','y','z']"
   ]
  },
  {
   "cell_type": "code",
   "execution_count": null,
   "metadata": {},
   "outputs": [],
   "source": [
    "save_path = \"../data/bronze/\"\n",
    "file_to_save = \"supplements_list.csv\""
   ]
  },
  {
   "cell_type": "markdown",
   "metadata": {},
   "source": [
    "# EXTRACT SUPPLEMENTS AND URL"
   ]
  },
  {
   "cell_type": "code",
   "execution_count": null,
   "metadata": {},
   "outputs": [],
   "source": [
    "supplements_list = []\n",
    "\n",
    "driver = webdriver.Chrome(service=Service(ChromeDriverManager().install()))\n",
    "\n",
    "for letter in letters:\n",
    "    \n",
    "    driver.get(url + letter)\n",
    "\n",
    "    wait_time = WebDriverWait(driver, 10)\n",
    "\n",
    "    try:\n",
    "        btn_loadMore = wait_time.until(EC.element_to_be_clickable((By.XPATH, \"/html/body/div[1]/div/main/div/div[2]/div/div/div/div/div/div[3]/span\")))\n",
    "        btn_loadMore.click()\n",
    "    except Exception as e:\n",
    "        print(\"Load More button not found or not clickable:\", e)\n",
    "\n",
    "    try:\n",
    "        ul_element = wait_time.until(EC.presence_of_element_located((By.XPATH, \"/html/body/div[1]/div/main/div/div[2]/div/div/div/div/div/div[2]/aside/ul\")))\n",
    "        \n",
    "        list_items = ul_element.find_elements(By.TAG_NAME, \"li\")\n",
    "        for index, item in enumerate(list_items, start=1):\n",
    "            try:\n",
    "                a_tag = item.find_element(By.TAG_NAME, \"a\")\n",
    "                \n",
    "                href = a_tag.get_attribute(\"href\")\n",
    "                text = a_tag.text\n",
    "                \n",
    "                supplements_list.append([text, href])\n",
    "                sleep(5)\n",
    "            except Exception as e:\n",
    "                print(f\"No <a> tag found in Item {index}: {e}\")\n",
    "    except Exception as e:\n",
    "        print(\"Error finding <ul> or <li> elements:\", e)\n",
    "\n",
    "driver.quit()"
   ]
  },
  {
   "cell_type": "code",
   "execution_count": null,
   "metadata": {},
   "outputs": [],
   "source": [
    "supplements = pd.DataFrame(supplements_list, columns=[\"Name\", \"Url\"])"
   ]
  },
  {
   "cell_type": "code",
   "execution_count": null,
   "metadata": {},
   "outputs": [],
   "source": [
    "supplements.to_csv(os.path.join(save_path, file_name), index=False)"
   ]
  }
 ],
 "metadata": {
  "kernelspec": {
   "display_name": "env",
   "language": "python",
   "name": "python3"
  },
  "language_info": {
   "codemirror_mode": {
    "name": "ipython",
    "version": 3
   },
   "file_extension": ".py",
   "mimetype": "text/x-python",
   "name": "python",
   "nbconvert_exporter": "python",
   "pygments_lexer": "ipython3",
   "version": "3.11.9"
  }
 },
 "nbformat": 4,
 "nbformat_minor": 2
}
