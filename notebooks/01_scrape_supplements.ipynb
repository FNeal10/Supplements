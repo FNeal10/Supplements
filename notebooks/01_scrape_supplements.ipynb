{
 "cells": [
  {
   "cell_type": "code",
   "execution_count": 1,
   "metadata": {},
   "outputs": [],
   "source": [
    "import pandas as pd\n",
    "import os"
   ]
  },
  {
   "cell_type": "code",
   "execution_count": 2,
   "metadata": {},
   "outputs": [],
   "source": [
    "from time import sleep\n",
    "from selenium import webdriver\n",
    "from selenium.webdriver.common.by import By\n",
    "from selenium.webdriver.support.ui import WebDriverWait\n",
    "from selenium.webdriver.support import expected_conditions as EC\n",
    "from selenium.webdriver.chrome.service import Service\n",
    "from webdriver_manager.chrome import ChromeDriverManager"
   ]
  },
  {
   "cell_type": "code",
   "execution_count": 3,
   "metadata": {},
   "outputs": [],
   "source": [
    "url = \"https://www.webmd.com/vitamins/alpha/\"\n",
    "letters = ['a','b','c','d','e','f','g','h','i','j','k','l','m','n',\n",
    "           'o','p','q','r','s','t','u','v','w','x','y','z']"
   ]
  },
  {
   "cell_type": "code",
   "execution_count": 4,
   "metadata": {},
   "outputs": [],
   "source": [
    "save_path = \"../data/bronze/\""
   ]
  },
  {
   "cell_type": "markdown",
   "metadata": {},
   "source": [
    "# EXTRACT SUPPLEMENTS AND URL"
   ]
  },
  {
   "cell_type": "code",
   "execution_count": null,
   "metadata": {},
   "outputs": [
    {
     "name": "stdout",
     "output_type": "stream",
     "text": [
      "Load More button not found or not clickable: Message: \n",
      "Stacktrace:\n",
      "\tGetHandleVerifier [0x00B1C7F3+24435]\n",
      "\t(No symbol) [0x00AA2074]\n",
      "\t(No symbol) [0x009706E3]\n",
      "\t(No symbol) [0x009B8B39]\n",
      "\t(No symbol) [0x009B8E8B]\n",
      "\t(No symbol) [0x00A01AC2]\n",
      "\t(No symbol) [0x009DD804]\n",
      "\t(No symbol) [0x009FF20A]\n",
      "\t(No symbol) [0x009DD5B6]\n",
      "\t(No symbol) [0x009AC54F]\n",
      "\t(No symbol) [0x009AD894]\n",
      "\tGetHandleVerifier [0x00E270A3+3213347]\n",
      "\tGetHandleVerifier [0x00E3B0C9+3295305]\n",
      "\tGetHandleVerifier [0x00E3558C+3271948]\n",
      "\tGetHandleVerifier [0x00BB7360+658144]\n",
      "\t(No symbol) [0x00AAB27D]\n",
      "\t(No symbol) [0x00AA8208]\n",
      "\t(No symbol) [0x00AA83A9]\n",
      "\t(No symbol) [0x00A9AAC0]\n",
      "\t(No symbol) [0x770EFCC9]\n",
      "\tRtlGetAppContainerNamedObjectPath [0x77CE82AE+286]\n",
      "\tRtlGetAppContainerNamedObjectPath [0x77CE827E+238]\n",
      "\n",
      "Load More button not found or not clickable: Message: \n",
      "Stacktrace:\n",
      "\tGetHandleVerifier [0x00B1C7F3+24435]\n",
      "\t(No symbol) [0x00AA2074]\n",
      "\t(No symbol) [0x009706E3]\n",
      "\t(No symbol) [0x009B8B39]\n",
      "\t(No symbol) [0x009B8E8B]\n",
      "\t(No symbol) [0x00A01AC2]\n",
      "\t(No symbol) [0x009DD804]\n",
      "\t(No symbol) [0x009FF20A]\n",
      "\t(No symbol) [0x009DD5B6]\n",
      "\t(No symbol) [0x009AC54F]\n",
      "\t(No symbol) [0x009AD894]\n",
      "\tGetHandleVerifier [0x00E270A3+3213347]\n",
      "\tGetHandleVerifier [0x00E3B0C9+3295305]\n",
      "\tGetHandleVerifier [0x00E3558C+3271948]\n",
      "\tGetHandleVerifier [0x00BB7360+658144]\n",
      "\t(No symbol) [0x00AAB27D]\n",
      "\t(No symbol) [0x00AA8208]\n",
      "\t(No symbol) [0x00AA83A9]\n",
      "\t(No symbol) [0x00A9AAC0]\n",
      "\t(No symbol) [0x770EFCC9]\n",
      "\tRtlGetAppContainerNamedObjectPath [0x77CE82AE+286]\n",
      "\tRtlGetAppContainerNamedObjectPath [0x77CE827E+238]\n",
      "\n"
     ]
    }
   ],
   "source": [
    "supplements_list = []\n",
    "\n",
    "driver = webdriver.Chrome(service=Service(ChromeDriverManager().install()))\n",
    "\n",
    "for letter in letters:\n",
    "    \n",
    "    driver.get(url + letter)\n",
    "\n",
    "    wait_time = WebDriverWait(driver, 10)\n",
    "\n",
    "    try:\n",
    "        btn_loadMore = wait_time.until(EC.element_to_be_clickable((By.XPATH, \"/html/body/div[1]/div/main/div/div[2]/div/div/div/div/div/div[3]/span\")))\n",
    "        btn_loadMore.click()\n",
    "    except Exception as e:\n",
    "        print(\"Load More button not found or not clickable:\", e)\n",
    "\n",
    "    try:\n",
    "        ul_element = wait_time.until(EC.presence_of_element_located((By.XPATH, \"/html/body/div[1]/div/main/div/div[2]/div/div/div/div/div/div[2]/aside/ul\")))\n",
    "        \n",
    "        list_items = ul_element.find_elements(By.TAG_NAME, \"li\")\n",
    "        for index, item in enumerate(list_items, start=1):\n",
    "            try:\n",
    "                a_tag = item.find_element(By.TAG_NAME, \"a\")\n",
    "                \n",
    "                href = a_tag.get_attribute(\"href\")\n",
    "                text = a_tag.text\n",
    "                \n",
    "                supplements_list.append([text, href])\n",
    "                sleep(5)\n",
    "            except Exception as e:\n",
    "                print(f\"No <a> tag found in Item {index}: {e}\")\n",
    "    except Exception as e:\n",
    "        print(\"Error finding <ul> or <li> elements:\", e)\n",
    "\n",
    "driver.quit()"
   ]
  },
  {
   "cell_type": "code",
   "execution_count": 9,
   "metadata": {},
   "outputs": [
    {
     "ename": "NameError",
     "evalue": "name 'supplements_list' is not defined",
     "output_type": "error",
     "traceback": [
      "\u001b[31m---------------------------------------------------------------------------\u001b[39m",
      "\u001b[31mNameError\u001b[39m                                 Traceback (most recent call last)",
      "\u001b[36mCell\u001b[39m\u001b[36m \u001b[39m\u001b[32mIn[9]\u001b[39m\u001b[32m, line 1\u001b[39m\n\u001b[32m----> \u001b[39m\u001b[32m1\u001b[39m supplements = pd.DataFrame(\u001b[43msupplements_list\u001b[49m, columns=[\u001b[33m\"\u001b[39m\u001b[33mName\u001b[39m\u001b[33m\"\u001b[39m, \u001b[33m\"\u001b[39m\u001b[33mUrl\u001b[39m\u001b[33m\"\u001b[39m])\n",
      "\u001b[31mNameError\u001b[39m: name 'supplements_list' is not defined"
     ]
    }
   ],
   "source": [
    "supplements = pd.DataFrame(supplements_list, columns=[\"Name\", \"Url\"])"
   ]
  },
  {
   "cell_type": "code",
   "execution_count": null,
   "metadata": {},
   "outputs": [],
   "source": [
    "supplements.to_csv(os.path.join(save_path, 'supplements.csv'), index=False)"
   ]
  }
 ],
 "metadata": {
  "kernelspec": {
   "display_name": "env",
   "language": "python",
   "name": "python3"
  },
  "language_info": {
   "codemirror_mode": {
    "name": "ipython",
    "version": 3
   },
   "file_extension": ".py",
   "mimetype": "text/x-python",
   "name": "python",
   "nbconvert_exporter": "python",
   "pygments_lexer": "ipython3",
   "version": "3.11.9"
  }
 },
 "nbformat": 4,
 "nbformat_minor": 2
}
