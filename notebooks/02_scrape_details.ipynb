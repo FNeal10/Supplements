{
 "cells": [
  {
   "cell_type": "code",
   "execution_count": 2,
   "metadata": {},
   "outputs": [],
   "source": [
    "import pandas as pd\n",
    "from time import sleep\n",
    "import json"
   ]
  },
  {
   "cell_type": "code",
   "execution_count": 3,
   "metadata": {},
   "outputs": [],
   "source": [
    "from selenium import webdriver\n",
    "from selenium.webdriver.common.by import By\n",
    "from selenium.webdriver.support.ui import WebDriverWait\n",
    "from selenium.webdriver.support import expected_conditions as EC\n",
    "from selenium.webdriver.chrome.service import Service\n",
    "from webdriver_manager.chrome import ChromeDriverManager"
   ]
  },
  {
   "cell_type": "code",
   "execution_count": 78,
   "metadata": {},
   "outputs": [],
   "source": [
    "supplements = pd.read_csv(\"../data/bronze/Supplements.csv\")"
   ]
  },
  {
   "cell_type": "code",
   "execution_count": 79,
   "metadata": {},
   "outputs": [
    {
     "data": {
      "text/html": [
       "<div>\n",
       "<style scoped>\n",
       "    .dataframe tbody tr th:only-of-type {\n",
       "        vertical-align: middle;\n",
       "    }\n",
       "\n",
       "    .dataframe tbody tr th {\n",
       "        vertical-align: top;\n",
       "    }\n",
       "\n",
       "    .dataframe thead th {\n",
       "        text-align: right;\n",
       "    }\n",
       "</style>\n",
       "<table border=\"1\" class=\"dataframe\">\n",
       "  <thead>\n",
       "    <tr style=\"text-align: right;\">\n",
       "      <th></th>\n",
       "      <th>Name</th>\n",
       "      <th>Url</th>\n",
       "    </tr>\n",
       "  </thead>\n",
       "  <tbody>\n",
       "    <tr>\n",
       "      <th>31</th>\n",
       "      <td>Aloe</td>\n",
       "      <td>https://www.webmd.com/vitamins/ai/ingredientmo...</td>\n",
       "    </tr>\n",
       "  </tbody>\n",
       "</table>\n",
       "</div>"
      ],
      "text/plain": [
       "    Name                                                Url\n",
       "31  Aloe  https://www.webmd.com/vitamins/ai/ingredientmo..."
      ]
     },
     "execution_count": 79,
     "metadata": {},
     "output_type": "execute_result"
    }
   ],
   "source": [
    "supplements = supplements[supplements[\"Name\"] == \"Aloe\"]\n",
    "supplements"
   ]
  },
  {
   "cell_type": "markdown",
   "metadata": {},
   "source": [
    "## FUNCTIONS"
   ]
  },
  {
   "cell_type": "code",
   "execution_count": 80,
   "metadata": {},
   "outputs": [],
   "source": [
    "def get_information(waitTime, tabName, supplementName, cssSelector):\n",
    "    info = \"\"\n",
    "    try:\n",
    "        container = waitTime.until(EC.presence_of_element_located((By.CSS_SELECTOR, cssSelector)))\n",
    "        div_text = container.text\n",
    "\n",
    "        info = div_text\n",
    "    except Exception as e:\n",
    "        print(f\"Error in getting {tabName} for: {supplementName} {e}\")    \n",
    "    finally:\n",
    "        return info"
   ]
  },
  {
   "cell_type": "code",
   "execution_count": 81,
   "metadata": {},
   "outputs": [],
   "source": [
    "def get_uses(waitTime, supplementName):\n",
    "    uses = {}\n",
    "    try:\n",
    "        container = waitTime.until(EC.presence_of_element_located((By.CLASS_NAME, \"uses-container\")))        \n",
    "        try:\n",
    "            no_data = container.find_element(By.CSS_SELECTOR, \"p.no-data-text\")\n",
    "            if no_data:\n",
    "                return uses\n",
    "        except:\n",
    "            pass  \n",
    "        \n",
    "        parent_div = container.find_element(By.XPATH, \"./div\")\n",
    "        child_divs = parent_div.find_elements(By.CSS_SELECTOR, \".vitamins-monograph-content.uses-content\")\n",
    "        tag_h3 = parent_div.find_elements(By.TAG_NAME, 'h3')\n",
    "        \n",
    "        if len(tag_h3) >= 1:\n",
    "            ctr = 0  \n",
    "            for child in child_divs:\n",
    "                li_list = []\n",
    "                \n",
    "                ul_elements = child.find_elements(By.TAG_NAME, 'ul')\n",
    "                \n",
    "                if not ul_elements:\n",
    "                    continue\n",
    "                \n",
    "                for ul in ul_elements:\n",
    "                    li_elements = ul.find_elements(By.TAG_NAME, 'li')\n",
    "                    for li in li_elements:\n",
    "                        li_list.append([li.text])\n",
    "                        \n",
    "                uses[tag_h3[ctr].text] = li_list\n",
    "                ctr += 1\n",
    "                \n",
    "    except Exception as e:\n",
    "        print(f\"Error in getting uses for: {supplementName} {e}\")    \n",
    "    finally:\n",
    "        return uses\n"
   ]
  },
  {
   "cell_type": "code",
   "execution_count": 88,
   "metadata": {},
   "outputs": [],
   "source": [
    "def get_interactions(waitTime, supplementName):\n",
    "    interactions = {}\n",
    "\n",
    "    try:\n",
    "        try:\n",
    "            no_data = waitTime.until(EC.presence_of_element_located(\n",
    "                (By.CSS_SELECTOR, \"#interactions-container .no-data-text\")\n",
    "            ))\n",
    "            if no_data:\n",
    "                return interactions  \n",
    "        except Exception:\n",
    "            pass  \n",
    "\n",
    "        container = waitTime.until(EC.presence_of_element_located(\n",
    "            (By.CSS_SELECTOR, \".vitamins-monograph-content.interactions-content\")\n",
    "        ))\n",
    "\n",
    "        tag_ul = container.find_elements(By.TAG_NAME, 'ul')\n",
    "        \n",
    "        if tag_ul:\n",
    "            for ul in tag_ul:\n",
    "                h3_headers = ul.find_elements(By.TAG_NAME, 'h3')\n",
    "                \n",
    "                tag_li = ul.find_elements(By.TAG_NAME, 'li')\n",
    "                \n",
    "                for li in tag_li:\n",
    "                    h3_elements = li.find_elements(By.TAG_NAME, 'h3')\n",
    "                    p_elements = li.find_elements(By.TAG_NAME, 'p')\n",
    "\n",
    "                    for h3, p in zip(h3_elements, p_elements):\n",
    "                        h3_header = h3_headers[0].text if h3_headers else \"No Header\"\n",
    "                        \n",
    "                        if h3_header not in interactions:\n",
    "                            interactions[h3_header] = {}\n",
    "\n",
    "                        interactions[h3_header][h3.text] = p.text\n",
    "\n",
    "    except Exception as e:\n",
    "        print(f\"Error in getting interactions for: {supplementName} - {e}\")\n",
    "\n",
    "    finally:\n",
    "        return interactions "
   ]
  },
  {
   "cell_type": "code",
   "execution_count": 89,
   "metadata": {},
   "outputs": [],
   "source": [
    "def get_reviewURL(driver, waitTime, supplementName):\n",
    "    reviews = {}  \n",
    "    try:\n",
    "        try:\n",
    "            ul_1 = driver.find_element(By.CSS_SELECTOR, \".tabs-container-holder .tabs-container .auto-tabs\")\n",
    "        except Exception:\n",
    "            ul_1 = None\n",
    "\n",
    "        try:\n",
    "            ul_2 = waitTime.until(EC.presence_of_element_located(\n",
    "                (By.CSS_SELECTOR, \".auto-container-holder .auto-tabs-container .auto-tabs\")\n",
    "            ))\n",
    "        except Exception:\n",
    "            ul_2 = None\n",
    "        \n",
    "        if ul_1:\n",
    "            ul = ul_1\n",
    "        elif ul_2:\n",
    "            ul = ul_2\n",
    "        else:\n",
    "            return {}\n",
    "\n",
    "        li_items = ul.find_elements(By.TAG_NAME, 'li')\n",
    "        if li_items:\n",
    "            last_li = li_items[-1] \n",
    "            a_tag = last_li.find_element(By.TAG_NAME, 'a')\n",
    "\n",
    "            href_value = a_tag.get_attribute('href')\n",
    "            a_text = a_tag.text \n",
    "\n",
    "            reviews = {\n",
    "                'NumberOfReviews': a_text,\n",
    "                'Url': href_value\n",
    "            }\n",
    "\n",
    "    except Exception as e:\n",
    "        print(f\"Error in getting review details for: {supplementName} - {e}\")\n",
    "    finally:\n",
    "        return reviews\n"
   ]
  },
  {
   "cell_type": "code",
   "execution_count": null,
   "metadata": {},
   "outputs": [],
   "source": [
    "supplement_info = {}\n",
    "\n",
    "driver = webdriver.Chrome(service=Service(ChromeDriverManager().install()))\n",
    "waitTime = WebDriverWait(driver,10)\n",
    "\n",
    "for _, info in supplements.iterrows():\n",
    "\n",
    "    supplementName = info.Name\n",
    "    supplementURL = info.Url\n",
    "    \n",
    "    driver.get(supplementURL)       \n",
    "\n",
    "    overview = get_information(waitTime, \"overview\", supplementName, \".vitamins-monograph-content.overview-content\")\n",
    "    uses = get_uses(waitTime, supplementName)\n",
    "    sideEffects = get_information(waitTime, \"side effects\", supplementName, \".vitamins-monograph-content.side-effects-content\")\n",
    "    preCautions = get_information(waitTime, \"precautions\", supplementName, \".vitamins-monograph-content.precautions-content\")\n",
    "    interactions = get_interactions(waitTime, supplementName)\n",
    "    dosing = get_information(waitTime, \"dosing\", supplementName, \".vitamins-monograph-content.dosage-content\")\n",
    "    reviews = get_reviewURL(driver, waitTime, supplementName)\n",
    "\n",
    "\n",
    "    supplement_info[supplementName] = {\n",
    "         \"Overview\": overview,\n",
    "         \"Uses\": uses,\n",
    "         \"SideEffects\": sideEffects,\n",
    "         \"Precautions\": preCautions,\n",
    "         \"Interactions\": interactions,\n",
    "         \"Dosing\": dosing,\n",
    "         \"Reviews\" : reviews\n",
    "    }\n",
    "    sleep(2)\n",
    "driver.quit()"
   ]
  },
  {
   "cell_type": "code",
   "execution_count": 90,
   "metadata": {},
   "outputs": [
    {
     "data": {
      "text/plain": [
       "{'Aloe': {'Overview': 'Aloe (aloe vera), is a cactus-like plant that grows in hot, dry climates. The useful parts of aloe are the gel and latex.\\n\\nAloe gel might help some skin conditions like psoriasis. It also seems to speed up wound healing by improving blood circulation, and might combat certain types of bacteria and fungi. Aloe latex contains chemicals that work as a laxative. Some aloe products are made from the whole crushed leaf, so they contain both gel and latex.\\n\\nPeople commonly apply aloe gel to the skin for conditions such as sunburn, acne, dandruff, and many others, but there is no good scientific evidence to support these uses. Some people take aloe products by mouth for conditions such as obesity, diabetes, osteoarthritis, and many others, but there is also no good scientific evidence to support these uses.',\n",
       "  'Uses': {'Possibly Effective for': [['Acne. Applying an aloe gel to the skin in the morning and evening, together with a prescription anti-acne medicine, can improve acne in some children and adults.'],\n",
       "    ['Burns. Applying aloe gel or cream to the skin can reduce healing time in people with first- or second-degree burns.'],\n",
       "    [\"Constipation. Taking aloe latex by mouth can reduce constipation. But it's banned for use as a laxative by the FDA due to safety concerns.\"],\n",
       "    ['Diabetes. Taking aloe by mouth can reduce blood sugar and HbA1c in people with type 2 diabetes.'],\n",
       "    ['Genital herpes. Applying an aloe extract 0.5% cream three times daily might help heal genital herpes outbreaks.'],\n",
       "    ['An inflammatory condition that causes rash or sores on the skin or mouth (lichen planus). Using a mouthwash containing aloe gel three times daily for 12 weeks or applying a gel containing aloe twice daily for 8 weeks can reduce pain from itchy rashes in the mouth.'],\n",
       "    ['Obesity. Taking a specific aloe product (Aloe QDM complex, Univera Inc.) twice daily for 8 weeks might reduce body weight and fat mass in overweight or obese people with diabetes or prediabetes.'],\n",
       "    ['A painful mouth disease that reduces ones ability to open the mouth (oral submucous fibrosis). Applying aloe gel reduces burning from this condition. But it does not seem to improve the ability to open the mouth or improve cheek and tongue movements.'],\n",
       "    [\"Scaly, itchy skin (psoriasis). Applying a cream containing aloe extract 0.5% for 4 weeks seems to reduce skin plaques. But using an aloe gel doesn't seem to have the same effects.\"],\n",
       "    ['Sores in the mouth from injury or rubbing (traumatic oral ulcers). Applying a gel containing aloe to the gums after getting dental appliances such as braces helps to prevent mouth sores.']]},\n",
       "  'SideEffects': 'When taken by mouth: Aloe gel is possibly safe when used short-term. Aloe gel has been used safely in a dose of 15 mL daily for up to 42 days. Also, a specific gel (Aloe QDM complex Univera Inc) has been used safely at a dose of about 600 mg daily for up to 8 weeks. Aloe extract is also possibly safe when taken short-term.\\n\\nTaking aloe latex or aloe whole-leaf extract by mouth is possibly unsafe at any dose. Aloe latex is likely unsafe when taken by mouth in high doses. Aloe latex can cause side effects such as stomach pain. Long-term use of large amounts of aloe latex might cause serious side effects, including kidney and heart problems. Taking aloe latex 1 gram daily can be fatal.\\n\\nWhen applied to the skin: Aloe gel is likely safe.',\n",
       "  'Precautions': 'Pregnancy and breast-feeding: Aloe gel and latex are possibly unsafe when taken by mouth. There is a report that aloe was associated with miscarriage. It might also increase the risk for birth defects. Do not take aloe by mouth if you are pregnant or breast-feeding.\\n\\nChildren: Aloe gel is possibly safe when applied to the skin appropriately. Aloe latex and aloe whole leaf extracts are possibly unsafe when taken by mouth in children. Children younger than 12 years old might have stomach pain, cramps, and diarrhea.\\n\\nIntestinal conditions such as Crohn disease, ulcerative colitis, or obstruction: Do not take aloe latex if you have any of these conditions. Aloe latex is a GI irritant. Products made from whole aloe leaves will contain some aloe latex.\\n\\nKidney problems: High doses of aloe latex have been linked to kidney failure and other serious conditions.\\n\\nSurgery: Aloe might affect blood sugar levels and could interfere with blood sugar control during and after surgery. Stop taking aloe at least 2 weeks before a scheduled surgery.',\n",
       "  'Interactions': {'Major Interaction': {'Digoxin (Lanoxin) interacts with ALOE': 'When taken by mouth, aloe latex is a type of laxative called a stimulant laxative. Stimulant laxatives can decrease potassium levels in the body. Low potassium levels can increase the risk of side effects from digoxin.'},\n",
       "   'Moderate Interaction': {'Medications for diabetes (Antidiabetes drugs) interacts with ALOE': 'Aloe gel might lower blood sugar levels. Taking aloe along with diabetes medications might cause blood sugar to drop too low. Monitor your blood sugar closely.',\n",
       "    'Stimulant laxatives interacts with ALOE': 'Aloe latex is a type of laxative called a stimulant laxative. Stimulant laxatives can cause diarrhea and decrease potassium levels. Taking aloe latex with other stimulant laxatives might cause more diarrhea and very low potassium levels.',\n",
       "    'Warfarin (Coumadin) interacts with ALOE': 'Aloe latex is a type of laxative called a stimulant laxative. Stimulant laxatives speed up the bowels and can cause diarrhea in some people. Diarrhea can increase the effects of warfarin and increase the risk of bleeding. If you take warfarin, do not take excessive amounts of aloe latex.',\n",
       "    'Water pills (Diuretic drugs) interacts with ALOE': 'Aloe latex is a laxative. Some laxatives can cause diarrhea and decrease potassium levels. \"Water pills\" can also decrease potassium levels. Taking aloe latex along with \"water pills\" might make potassium levels drop too low.',\n",
       "    'Medications that slow blood clotting (Anticoagulant / Antiplatelet drugs) interacts with ALOE': 'Aloe might slow blood clotting. Taking aloe along with medications that also slow blood clotting might increase the risk of bruising and bleeding.'},\n",
       "   'Minor Interaction': {'Medications changed by the liver (Cytochrome P450 1A2 (CYP1A2) substrates) interacts with ALOE': 'Some medications are changed and broken down by the liver. Aloe extract might change how quickly the liver breaks down these medications. This could change the effects and side effects of these medications.'}},\n",
       "  'Dosing': 'Various aloe products have been used by mouth in adults. These include aloe extracts, aloe gels, aloe juices, and raw aloe leaves. Both adults and children have applied various aloe products to the skin, including gels, creams, mouthwashes, and topical solutions. Speak with a healthcare provider to find out what type of product and dose might be best for a specific condition.',\n",
       "  'Reviews': {'NumberOfReviews': 'Reviews (56)',\n",
       "   'Url': 'https://reviews.webmd.com/vitamins-supplements/ingredientreview-607-ALOE'}}}"
      ]
     },
     "execution_count": 90,
     "metadata": {},
     "output_type": "execute_result"
    }
   ],
   "source": [
    "supplement_info"
   ]
  },
  {
   "cell_type": "code",
   "execution_count": 91,
   "metadata": {},
   "outputs": [],
   "source": [
    "file_path = '../data/bronze/Details.json'\n",
    "\n",
    "# Save the dictionary to a JSON file\n",
    "with open(file_path, 'w') as json_file:\n",
    "    json.dump(supplement_info, json_file, indent=4)"
   ]
  },
  {
   "cell_type": "code",
   "execution_count": null,
   "metadata": {},
   "outputs": [],
   "source": []
  }
 ],
 "metadata": {
  "kernelspec": {
   "display_name": "env",
   "language": "python",
   "name": "python3"
  },
  "language_info": {
   "codemirror_mode": {
    "name": "ipython",
    "version": 3
   },
   "file_extension": ".py",
   "mimetype": "text/x-python",
   "name": "python",
   "nbconvert_exporter": "python",
   "pygments_lexer": "ipython3",
   "version": "3.11.9"
  }
 },
 "nbformat": 4,
 "nbformat_minor": 2
}
