{
 "cells": [
  {
   "cell_type": "code",
   "execution_count": 14,
   "metadata": {},
   "outputs": [],
   "source": [
    "import pandas as pd\n",
    "from time import sleep\n",
    "import json"
   ]
  },
  {
   "cell_type": "code",
   "execution_count": 15,
   "metadata": {},
   "outputs": [],
   "source": [
    "from selenium import webdriver\n",
    "from selenium.webdriver.common.by import By\n",
    "from selenium.webdriver.support.ui import WebDriverWait\n",
    "from selenium.webdriver.support import expected_conditions as EC\n",
    "from selenium.webdriver.chrome.service import Service\n",
    "from webdriver_manager.chrome import ChromeDriverManager"
   ]
  },
  {
   "cell_type": "code",
   "execution_count": 16,
   "metadata": {},
   "outputs": [],
   "source": [
    "supplements = pd.read_csv(\"../data/bronze/Supplements.csv\")"
   ]
  },
  {
   "cell_type": "code",
   "execution_count": 6,
   "metadata": {},
   "outputs": [
    {
     "data": {
      "text/html": [
       "<div>\n",
       "<style scoped>\n",
       "    .dataframe tbody tr th:only-of-type {\n",
       "        vertical-align: middle;\n",
       "    }\n",
       "\n",
       "    .dataframe tbody tr th {\n",
       "        vertical-align: top;\n",
       "    }\n",
       "\n",
       "    .dataframe thead th {\n",
       "        text-align: right;\n",
       "    }\n",
       "</style>\n",
       "<table border=\"1\" class=\"dataframe\">\n",
       "  <thead>\n",
       "    <tr style=\"text-align: right;\">\n",
       "      <th></th>\n",
       "      <th>Name</th>\n",
       "      <th>Url</th>\n",
       "    </tr>\n",
       "  </thead>\n",
       "  <tbody>\n",
       "    <tr>\n",
       "      <th>1228</th>\n",
       "      <td>Wheatgrass</td>\n",
       "      <td>https://www.webmd.com/vitamins/ai/ingredientmo...</td>\n",
       "    </tr>\n",
       "  </tbody>\n",
       "</table>\n",
       "</div>"
      ],
      "text/plain": [
       "            Name                                                Url\n",
       "1228  Wheatgrass  https://www.webmd.com/vitamins/ai/ingredientmo..."
      ]
     },
     "execution_count": 6,
     "metadata": {},
     "output_type": "execute_result"
    }
   ],
   "source": [
    "supplements = supplements[supplements[\"Name\"] == \"Wheatgrass\"]\n",
    "supplements"
   ]
  },
  {
   "cell_type": "markdown",
   "metadata": {},
   "source": [
    "## FUNCTIONS"
   ]
  },
  {
   "cell_type": "code",
   "execution_count": 7,
   "metadata": {},
   "outputs": [],
   "source": [
    "def get_information(waitTime, tabName, supplementName, cssSelector):\n",
    "    info = \"\"\n",
    "    try:\n",
    "        container = waitTime.until(EC.presence_of_element_located((By.CSS_SELECTOR, cssSelector)))\n",
    "        div_text = container.text\n",
    "\n",
    "        info = div_text\n",
    "    except Exception as e:\n",
    "        print(f\"Error in getting {tabName} for: {supplementName} {e}\")    \n",
    "    finally:\n",
    "        return info"
   ]
  },
  {
   "cell_type": "code",
   "execution_count": 8,
   "metadata": {},
   "outputs": [],
   "source": [
    "def get_uses(waitTime, supplementName):\n",
    "    uses = {}\n",
    "    try:\n",
    "        container = waitTime.until(EC.presence_of_element_located((By.CLASS_NAME, \"uses-container\")))        \n",
    "        try:\n",
    "            no_data = container.find_element(By.CSS_SELECTOR, \"p.no-data-text\")\n",
    "            if no_data:\n",
    "                return uses\n",
    "        except:\n",
    "            pass  \n",
    "        \n",
    "        parent_div = container.find_element(By.XPATH, \"./div\")\n",
    "        child_divs = parent_div.find_elements(By.CSS_SELECTOR, \".vitamins-monograph-content.uses-content\")\n",
    "        tag_h3 = parent_div.find_elements(By.TAG_NAME, 'h3')\n",
    "        \n",
    "        if len(tag_h3) >= 1:\n",
    "            ctr = 0  \n",
    "            for child in child_divs:\n",
    "                li_list = []\n",
    "                \n",
    "                ul_elements = child.find_elements(By.TAG_NAME, 'ul')\n",
    "                \n",
    "                if not ul_elements:\n",
    "                    continue\n",
    "                \n",
    "                for ul in ul_elements:\n",
    "                    li_elements = ul.find_elements(By.TAG_NAME, 'li')\n",
    "                    for li in li_elements:\n",
    "                        li_list.append([li.text])\n",
    "                        \n",
    "                uses[tag_h3[ctr].text] = li_list\n",
    "                ctr += 1\n",
    "                \n",
    "    except Exception as e:\n",
    "        print(f\"Error in getting uses for: {supplementName} {e}\")    \n",
    "    finally:\n",
    "        return uses\n"
   ]
  },
  {
   "cell_type": "code",
   "execution_count": 9,
   "metadata": {},
   "outputs": [],
   "source": [
    "def get_interactions(waitTime, supplementName):\n",
    "    interactions = {}\n",
    "\n",
    "    try:\n",
    "        try:\n",
    "            no_data = waitTime.until(EC.presence_of_element_located(\n",
    "                (By.CSS_SELECTOR, \"#interactions-container .no-data-text\")\n",
    "            ))\n",
    "            if no_data:\n",
    "                return interactions  \n",
    "        except Exception:\n",
    "            pass  \n",
    "\n",
    "        container = waitTime.until(EC.presence_of_element_located(\n",
    "            (By.CSS_SELECTOR, \".vitamins-monograph-content.interactions-content\")\n",
    "        ))\n",
    "\n",
    "        tag_ul = container.find_elements(By.TAG_NAME, 'ul')\n",
    "        \n",
    "        if tag_ul:\n",
    "            for ul in tag_ul:\n",
    "                h3_headers = ul.find_elements(By.TAG_NAME, 'h3')\n",
    "                \n",
    "                tag_li = ul.find_elements(By.TAG_NAME, 'li')\n",
    "                \n",
    "                for li in tag_li:\n",
    "                    h3_elements = li.find_elements(By.TAG_NAME, 'h3')\n",
    "                    p_elements = li.find_elements(By.TAG_NAME, 'p')\n",
    "\n",
    "                    for h3, p in zip(h3_elements, p_elements):\n",
    "                        h3_header = h3_headers[0].text if h3_headers else \"No Header\"\n",
    "                        \n",
    "                        if h3_header not in interactions:\n",
    "                            interactions[h3_header] = {}\n",
    "\n",
    "                        interactions[h3_header][h3.text] = p.text\n",
    "\n",
    "    except Exception as e:\n",
    "        print(f\"Error in getting interactions for: {supplementName} - {e}\")\n",
    "\n",
    "    finally:\n",
    "        return interactions "
   ]
  },
  {
   "cell_type": "code",
   "execution_count": 10,
   "metadata": {},
   "outputs": [],
   "source": [
    "def get_reviewURL(driver, waitTime, supplementName):\n",
    "    reviews = {}  \n",
    "    try:\n",
    "        try:\n",
    "            ul_1 = driver.find_element(By.CSS_SELECTOR, \".tabs-container-holder .tabs-container .auto-tabs\")\n",
    "        except Exception:\n",
    "            ul_1 = None\n",
    "\n",
    "        try:\n",
    "            ul_2 = waitTime.until(EC.presence_of_element_located(\n",
    "                (By.CSS_SELECTOR, \".auto-container-holder .auto-tabs-container .auto-tabs\")\n",
    "            ))\n",
    "        except Exception:\n",
    "            ul_2 = None\n",
    "        \n",
    "        if ul_1:\n",
    "            ul = ul_1\n",
    "        elif ul_2:\n",
    "            ul = ul_2\n",
    "        else:\n",
    "            return {}\n",
    "\n",
    "        li_items = ul.find_elements(By.TAG_NAME, 'li')\n",
    "        if li_items:\n",
    "            last_li = li_items[-1] \n",
    "            a_tag = last_li.find_element(By.TAG_NAME, 'a')\n",
    "\n",
    "            href_value = a_tag.get_attribute('href')\n",
    "            a_text = a_tag.text \n",
    "\n",
    "            reviews = {\n",
    "                'NumberOfReviews': a_text,\n",
    "                'Url': href_value\n",
    "            }\n",
    "\n",
    "    except Exception as e:\n",
    "        print(f\"Error in getting review details for: {supplementName} - {e}\")\n",
    "    finally:\n",
    "        return reviews\n"
   ]
  },
  {
   "cell_type": "code",
   "execution_count": 11,
   "metadata": {},
   "outputs": [],
   "source": [
    "supplement_info = {}\n",
    "\n",
    "driver = webdriver.Chrome(service=Service(ChromeDriverManager().install()))\n",
    "waitTime = WebDriverWait(driver,10)\n",
    "\n",
    "for _, info in supplements.iterrows():\n",
    "\n",
    "    supplementName = info.Name\n",
    "    supplementURL = info.Url\n",
    "    \n",
    "    driver.get(supplementURL)       \n",
    "\n",
    "    overview = get_information(waitTime, \"overview\", supplementName, \".vitamins-monograph-content.overview-content\")\n",
    "    uses = get_uses(waitTime, supplementName)\n",
    "    sideEffects = get_information(waitTime, \"side effects\", supplementName, \".vitamins-monograph-content.side-effects-content\")\n",
    "    preCautions = get_information(waitTime, \"precautions\", supplementName, \".vitamins-monograph-content.precautions-content\")\n",
    "    interactions = get_interactions(waitTime, supplementName)\n",
    "    dosing = get_information(waitTime, \"dosing\", supplementName, \".vitamins-monograph-content.dosage-content\")\n",
    "    reviews = get_reviewURL(driver, waitTime, supplementName)\n",
    "\n",
    "\n",
    "    supplement_info[supplementName] = {\n",
    "         \"Overview\": overview,\n",
    "         \"Uses\": uses,\n",
    "         \"SideEffects\": sideEffects,\n",
    "         \"Precautions\": preCautions,\n",
    "         \"Interactions\": interactions,\n",
    "         \"Dosing\": dosing,\n",
    "         \"Reviews\" : reviews\n",
    "    }\n",
    "    sleep(2)\n",
    "driver.quit()"
   ]
  },
  {
   "cell_type": "code",
   "execution_count": 12,
   "metadata": {},
   "outputs": [
    {
     "data": {
      "text/plain": [
       "{'Wheatgrass': {'Overview': \"Wheatgrass is the freshly sprouted shoot of the wheat plant (Triticum aestivum). It's native to Asia and the Mediterranean, but it's grown worldwide.\\n\\nWheatgrass contains large amounts of chlorophyll. High-chlorophyll diets are sometimes promoted to treat certain diseases, such as cancer. Wheatgrass also contains vitamin A, vitamin C, vitamin E, iron, calcium, magnesium, and amino acids.\\n\\nPeople use wheatgrass for a blood disorder that reduces levels of protein in the blood called hemoglobin (beta-thalassemia), cancer, high cholesterol, inflammatory bowel disease, and many other conditions, but there is no good scientific evidence to support these uses.\\n\\nWheat is considered a major food allergen in the US. Wheat contents, including wheatgrass, must be labeled on packaged foods and supplement products. Don't confuse wheatgrass with similarly named wheat bran or couch grass. These are not the same.\",\n",
       "  'Uses': {'Insufficient Evidence for': [['A blood disorder that reduces levels of protein in the blood called hemoglobin (beta-thalassemia). Some early research suggests that drinking 100 mL of wheatgrass juice daily for 18 months or taking tablets containing 1-4 grams of wheatgrass daily for 12 months can reduce the need for blood transfusions in children with beta-thalassemia. But other early research suggests that taking tablets containing 100-200 mg/kg of wheatgrass daily for 12 months does not reduce the need for blood transfusions in children and adults with beta-thalassemia.'],\n",
       "    ['Heel pain. Early research suggests that applying a wheatgrass cream to the bottom of the feet twice daily for 6 weeks does not reduce heel pain.'],\n",
       "    ['High cholesterol. Early research suggests that taking wheatgrass powder in a capsule daily for 10 weeks reduces total cholesterol and triglyceridecholesterol levels by a small amount in females with elevated cholesterol levels.'],\n",
       "    ['A type of inflammatory bowel disease (ulcerative colitis). Early research suggests that freshly extracted wheatgrass juice might reduce overall disease activity and the severity of rectal bleeding in people with this condition.'],\n",
       "    ['Anemia.'],\n",
       "    ['Cancer.'],\n",
       "    ['Diabetes.'],\n",
       "    ['High blood pressure.'],\n",
       "    ['Preventing infections.'],\n",
       "    ['Preventing tooth decay.'],\n",
       "    ['Removing drugs, metals, toxins, and cancer-causing substances from the body.'],\n",
       "    ['Wound healing.'],\n",
       "    ['Other conditions.']]},\n",
       "  'SideEffects': \"When taken by mouth: Wheatgrass is commonly consumed in foods. Wheatgrass juice is possibly safe when consumed as medicine in amounts of 60-100 mL daily for up to 18 months. But there isn't enough reliable information to know if it is safe to use longer-term as medicine. It's generally well-tolerated. Side effects might include allergic reactions, anorexia, constipation and nausea.\\n\\nWhen applied to the skin: Wheatgrass is possibly safe when used for up to 6 weeks.\",\n",
       "  'Precautions': \"When taken by mouth: Wheatgrass is commonly consumed in foods. Wheatgrass juice is possibly safe when consumed as medicine in amounts of 60-100 mL daily for up to 18 months. But there isn't enough reliable information to know if it is safe to use longer-term as medicine. It's generally well-tolerated. Side effects might include allergic reactions, anorexia, constipation and nausea.\\n\\nWhen applied to the skin: Wheatgrass is possibly safe when used for up to 6 weeks.\\n\\nPregnancy and breast-feeding: There isn't enough reliable information to know if wheatgrass is safe to use when pregnant or breast-feeding. Stay on the safe side and avoid use.\\n\\nSurgery: Wheatgrass might lower blood sugar. This might interfere with blood sugar control during and after surgery. Stop taking wheatgrass as a medicine at least 2 weeks before a scheduled surgery.\",\n",
       "  'Interactions': {'Moderate Interaction': {'Medications for diabetes (Antidiabetes drugs) interacts with WHEATGRASS': 'Wheatgrass might lower blood sugar levels. Taking wheatgrass along with diabetes medications might cause blood sugar to drop too low. Monitor your blood sugar closely.'},\n",
       "   'Minor Interaction': {'Medications changed by the liver (Cytochrome P450 1A2 (CYP1A2) substrates) interacts with WHEATGRASS': 'Some medications are changed and broken down by the liver. Wheatgrass might change how quickly the liver breaks down these medications. This could change the effects and side effects of these medications.'}},\n",
       "  'Dosing': \"There isn't enough reliable information to know what an appropriate dose of wheatgrass might be. Keep in mind that natural products are not always necessarily safe and dosages can be important. Be sure to follow relevant directions on product labels and consult a healthcare professional before using.\",\n",
       "  'Reviews': {'NumberOfReviews': 'Reviews (22)',\n",
       "   'Url': 'https://reviews.webmd.com/vitamins-supplements/ingredientreview-1073-WHEATGRASS'}}}"
      ]
     },
     "execution_count": 12,
     "metadata": {},
     "output_type": "execute_result"
    }
   ],
   "source": [
    "supplement_info"
   ]
  },
  {
   "cell_type": "code",
   "execution_count": 13,
   "metadata": {},
   "outputs": [],
   "source": [
    "file_path = '../data/bronze/DetailsTest.json'\n",
    "\n",
    "# Save the dictionary to a JSON file\n",
    "with open(file_path, 'w') as json_file:\n",
    "    json.dump(supplement_info, json_file, indent=4)"
   ]
  },
  {
   "cell_type": "code",
   "execution_count": null,
   "metadata": {},
   "outputs": [],
   "source": []
  },
  {
   "cell_type": "code",
   "execution_count": null,
   "metadata": {},
   "outputs": [],
   "source": []
  },
  {
   "cell_type": "code",
   "execution_count": null,
   "metadata": {},
   "outputs": [],
   "source": []
  }
 ],
 "metadata": {
  "kernelspec": {
   "display_name": "env",
   "language": "python",
   "name": "python3"
  },
  "language_info": {
   "codemirror_mode": {
    "name": "ipython",
    "version": 3
   },
   "file_extension": ".py",
   "mimetype": "text/x-python",
   "name": "python",
   "nbconvert_exporter": "python",
   "pygments_lexer": "ipython3",
   "version": "3.11.4"
  }
 },
 "nbformat": 4,
 "nbformat_minor": 2
}
